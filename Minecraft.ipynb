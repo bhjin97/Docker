{
 "cells": [
  {
   "cell_type": "code",
   "execution_count": 1,
   "id": "1af0730e-0fbd-4f94-911b-93a0af574842",
   "metadata": {},
   "outputs": [],
   "source": [
    "from pyspark.sql import SparkSession\n",
    "from pyspark.sql.functions import col, when, sum as spark_sum\n",
    "from pyspark.ml.regression import LinearRegression\n",
    "from pyspark.ml.feature import VectorAssembler, StringIndexer, OneHotEncoder, StandardScaler\n",
    "from pyspark.ml import Pipeline\n",
    "\n",
    "# 1. Spark 세션 생성\n",
    "spark = SparkSession.builder.appName(\"MobDropValueRegression\").getOrCreate()\n",
    "\n",
    "# 2. 데이터 불러오기\n",
    "mobs = spark.read.csv('learning_spark_data/Mobs.csv', header=True, inferSchema=True)\n",
    "food = spark.read.csv('learning_spark_data/Food.csv', header=True, inferSchema=True)\n",
    "mob_food = spark.read.csv('learning_spark_data/MobFoodDrops.csv', header=True, inferSchema=True)"
   ]
  },
  {
   "cell_type": "code",
   "execution_count": 2,
   "id": "47c33fd9-6207-4317-a8f4-2beaa9b3a07f",
   "metadata": {},
   "outputs": [],
   "source": [
    "# 필요없는 데이터 컬럼 drop\n",
    "mobs = mobs.drop(\"behaviorTypes\", \"spawnBehavior\", \"debutDate\", \"minecraftVersion\", \"reproductiveRequirement\")\n",
    "food = food.drop(\"debutDate\", \"minecraftVersion\")"
   ]
  },
  {
   "cell_type": "code",
   "execution_count": 3,
   "id": "21b2d071-9faf-462b-b1c1-0141dece6138",
   "metadata": {},
   "outputs": [
    {
     "name": "stdout",
     "output_type": "stream",
     "text": [
      "+-----+---------------------------------------------+\n",
      "|mobID|CAST(sum(hunger) AS totalDropValue AS DOUBLE)|\n",
      "+-----+---------------------------------------------+\n",
      "|   53|                                          3.0|\n",
      "|   78|                                          8.0|\n",
      "|   34|                                          3.0|\n",
      "|   28|                                          2.0|\n",
      "|   76|                                          8.0|\n",
      "|   26|                                          2.0|\n",
      "|   22|                                          3.0|\n",
      "|   52|                                          4.0|\n",
      "|    6|                                          2.0|\n",
      "|   54|                                          3.0|\n",
      "+-----+---------------------------------------------+\n",
      "only showing top 10 rows\n",
      "\n"
     ]
    }
   ],
   "source": [
    "# mobID → 몹 ID, foodID → 음식 ID로 연결\n",
    "\n",
    "# mob_food + food 조인 (foodID 기준)\n",
    "mob_food_value = mob_food.join(food, mob_food[\"foodID\"] == food[\"ID\"], how=\"left\") \\\n",
    "                         .select(mob_food[\"mobID\"], food[\"hunger\"])\n",
    "\n",
    "# 몹별 총 음식 드롭 가치 합산\n",
    "mob_drop_value = mob_food_value.groupBy(\"mobID\").agg(\n",
    "    spark_sum(\"hunger\").alias(\"totalDropValue\").cast('Double')\n",
    ")\n",
    "\n",
    "mob_drop_value.show(10)"
   ]
  },
  {
   "cell_type": "code",
   "execution_count": 4,
   "id": "facf4093-a3fe-4a3c-904b-e811b165aa57",
   "metadata": {},
   "outputs": [],
   "source": [
    "# NULL 처리 및 캐스팅\n",
    "mobs = mobs.withColumn(\"healthPoints\", col(\"healthPoints\").cast(\"double\"))\n",
    "mobs = mobs.withColumn(\"maxDamage\", when(col(\"maxDamage\").isNull(), 0).otherwise(col(\"maxDamage\")).cast(\"double\"))\n",
    "mobs = mobs.withColumn(\"difficultyScore\", col(\"healthPoints\") + col(\"maxDamage\") * 2)\n",
    "\n",
    "food = food.withColumn(\"hunger\", col(\"hunger\").cast(\"double\"))  # 드롭 가치 = hunger"
   ]
  },
  {
   "cell_type": "code",
   "execution_count": 5,
   "id": "bdaa8071-d7d6-4752-8b5d-dbfbd1ea38f1",
   "metadata": {},
   "outputs": [
    {
     "ename": "AnalysisException",
     "evalue": "[UNRESOLVED_COLUMN.WITH_SUGGESTION] A column or function parameter with name `totalDropValue` cannot be resolved. Did you mean one of the following? [`maxDamage`, `healthPoints`, `ID`, `mobID`, `name`].;\n'Project [ID#17, name#18, healthPoints#135, maxDamage#140, difficultyScore#145, mobID#81, CAST(sum(hunger) AS totalDropValue AS DOUBLE)#114, CASE WHEN isnull('totalDropValue) THEN 0 ELSE 'totalDropValue END AS totalDropValue#170]\n+- Join LeftOuter, (ID#17 = mobID#81)\n   :- Project [ID#17, name#18, healthPoints#135, maxDamage#140, (healthPoints#135 + (maxDamage#140 * cast(2 as double))) AS difficultyScore#145]\n   :  +- Project [ID#17, name#18, healthPoints#135, cast(CASE WHEN isnull(maxDamage#22) THEN 0 ELSE maxDamage#22 END as double) AS maxDamage#140]\n   :     +- Project [ID#17, name#18, cast(healthPoints#21 as double) AS healthPoints#135, maxDamage#22]\n   :        +- Project [ID#17, name#18, healthPoints#21, maxDamage#22]\n   :           +- Relation [ID#17,name#18,behaviorTypes#19,spawnBehavior#20,healthPoints#21,maxDamage#22,debutDate#23,minecraftVersion#24,reproductiveRequirement#25] csv\n   +- Aggregate [mobID#81], [mobID#81, cast(sum(hunger#55) as double) AS CAST(sum(hunger) AS totalDropValue AS DOUBLE)#114]\n      +- Project [mobID#81, hunger#55]\n         +- Join LeftOuter, (foodID#82 = ID#52)\n            :- Relation [mobID#81,foodID#82] csv\n            +- Project [ID#52, name#53, type#54, hunger#55]\n               +- Relation [ID#52,name#53,type#54,hunger#55,debutDate#56,minecraftVersion#57] csv\n",
     "output_type": "error",
     "traceback": [
      "\u001b[0;31m---------------------------------------------------------------------------\u001b[0m",
      "\u001b[0;31mAnalysisException\u001b[0m                         Traceback (most recent call last)",
      "Cell \u001b[0;32mIn[5], line 7\u001b[0m\n\u001b[1;32m      4\u001b[0m mob_efficiency \u001b[38;5;241m=\u001b[39m mobs\u001b[38;5;241m.\u001b[39mjoin(mob_drop_value, mobs[\u001b[38;5;124m\"\u001b[39m\u001b[38;5;124mID\u001b[39m\u001b[38;5;124m\"\u001b[39m] \u001b[38;5;241m==\u001b[39m mob_drop_value[\u001b[38;5;124m\"\u001b[39m\u001b[38;5;124mmobID\u001b[39m\u001b[38;5;124m\"\u001b[39m], how\u001b[38;5;241m=\u001b[39m\u001b[38;5;124m\"\u001b[39m\u001b[38;5;124mleft\u001b[39m\u001b[38;5;124m\"\u001b[39m)\n\u001b[1;32m      6\u001b[0m \u001b[38;5;66;03m# NULL 처리: 드롭 없으면 0\u001b[39;00m\n\u001b[0;32m----> 7\u001b[0m mob_efficiency \u001b[38;5;241m=\u001b[39m \u001b[43mmob_efficiency\u001b[49m\u001b[38;5;241;43m.\u001b[39;49m\u001b[43mwithColumn\u001b[49m\u001b[43m(\u001b[49m\n\u001b[1;32m      8\u001b[0m \u001b[43m    \u001b[49m\u001b[38;5;124;43m\"\u001b[39;49m\u001b[38;5;124;43mtotalDropValue\u001b[39;49m\u001b[38;5;124;43m\"\u001b[39;49m\u001b[43m,\u001b[49m\n\u001b[1;32m      9\u001b[0m \u001b[43m    \u001b[49m\u001b[43mwhen\u001b[49m\u001b[43m(\u001b[49m\u001b[43mcol\u001b[49m\u001b[43m(\u001b[49m\u001b[38;5;124;43m\"\u001b[39;49m\u001b[38;5;124;43mtotalDropValue\u001b[39;49m\u001b[38;5;124;43m\"\u001b[39;49m\u001b[43m)\u001b[49m\u001b[38;5;241;43m.\u001b[39;49m\u001b[43misNull\u001b[49m\u001b[43m(\u001b[49m\u001b[43m)\u001b[49m\u001b[43m,\u001b[49m\u001b[43m \u001b[49m\u001b[38;5;241;43m0\u001b[39;49m\u001b[43m)\u001b[49m\u001b[38;5;241;43m.\u001b[39;49m\u001b[43motherwise\u001b[49m\u001b[43m(\u001b[49m\u001b[43mcol\u001b[49m\u001b[43m(\u001b[49m\u001b[38;5;124;43m\"\u001b[39;49m\u001b[38;5;124;43mtotalDropValue\u001b[39;49m\u001b[38;5;124;43m\"\u001b[39;49m\u001b[43m)\u001b[49m\u001b[43m)\u001b[49m\n\u001b[1;32m     10\u001b[0m \u001b[43m)\u001b[49m\n\u001b[1;32m     12\u001b[0m \u001b[38;5;66;03m# 가성비 계산: 드롭 가치 / (사냥 난이도 + 1)\u001b[39;00m\n\u001b[1;32m     13\u001b[0m mob_efficiency \u001b[38;5;241m=\u001b[39m mob_efficiency\u001b[38;5;241m.\u001b[39mwithColumn(\n\u001b[1;32m     14\u001b[0m     \u001b[38;5;124m\"\u001b[39m\u001b[38;5;124mefficiencyScore\u001b[39m\u001b[38;5;124m\"\u001b[39m,\n\u001b[1;32m     15\u001b[0m     col(\u001b[38;5;124m\"\u001b[39m\u001b[38;5;124mtotalDropValue\u001b[39m\u001b[38;5;124m\"\u001b[39m) \u001b[38;5;241m/\u001b[39m (col(\u001b[38;5;124m\"\u001b[39m\u001b[38;5;124mdifficultyScore\u001b[39m\u001b[38;5;124m\"\u001b[39m) \u001b[38;5;241m+\u001b[39m \u001b[38;5;241m1\u001b[39m)\n\u001b[1;32m     16\u001b[0m )\n",
      "File \u001b[0;32m/usr/local/spark/python/pyspark/sql/dataframe.py:5170\u001b[0m, in \u001b[0;36mDataFrame.withColumn\u001b[0;34m(self, colName, col)\u001b[0m\n\u001b[1;32m   5165\u001b[0m \u001b[38;5;28;01mif\u001b[39;00m \u001b[38;5;129;01mnot\u001b[39;00m \u001b[38;5;28misinstance\u001b[39m(col, Column):\n\u001b[1;32m   5166\u001b[0m     \u001b[38;5;28;01mraise\u001b[39;00m PySparkTypeError(\n\u001b[1;32m   5167\u001b[0m         error_class\u001b[38;5;241m=\u001b[39m\u001b[38;5;124m\"\u001b[39m\u001b[38;5;124mNOT_COLUMN\u001b[39m\u001b[38;5;124m\"\u001b[39m,\n\u001b[1;32m   5168\u001b[0m         message_parameters\u001b[38;5;241m=\u001b[39m{\u001b[38;5;124m\"\u001b[39m\u001b[38;5;124marg_name\u001b[39m\u001b[38;5;124m\"\u001b[39m: \u001b[38;5;124m\"\u001b[39m\u001b[38;5;124mcol\u001b[39m\u001b[38;5;124m\"\u001b[39m, \u001b[38;5;124m\"\u001b[39m\u001b[38;5;124marg_type\u001b[39m\u001b[38;5;124m\"\u001b[39m: \u001b[38;5;28mtype\u001b[39m(col)\u001b[38;5;241m.\u001b[39m\u001b[38;5;18m__name__\u001b[39m},\n\u001b[1;32m   5169\u001b[0m     )\n\u001b[0;32m-> 5170\u001b[0m \u001b[38;5;28;01mreturn\u001b[39;00m DataFrame(\u001b[38;5;28;43mself\u001b[39;49m\u001b[38;5;241;43m.\u001b[39;49m\u001b[43m_jdf\u001b[49m\u001b[38;5;241;43m.\u001b[39;49m\u001b[43mwithColumn\u001b[49m\u001b[43m(\u001b[49m\u001b[43mcolName\u001b[49m\u001b[43m,\u001b[49m\u001b[43m \u001b[49m\u001b[43mcol\u001b[49m\u001b[38;5;241;43m.\u001b[39;49m\u001b[43m_jc\u001b[49m\u001b[43m)\u001b[49m, \u001b[38;5;28mself\u001b[39m\u001b[38;5;241m.\u001b[39msparkSession)\n",
      "File \u001b[0;32m/usr/local/spark/python/lib/py4j-0.10.9.7-src.zip/py4j/java_gateway.py:1322\u001b[0m, in \u001b[0;36mJavaMember.__call__\u001b[0;34m(self, *args)\u001b[0m\n\u001b[1;32m   1316\u001b[0m command \u001b[38;5;241m=\u001b[39m proto\u001b[38;5;241m.\u001b[39mCALL_COMMAND_NAME \u001b[38;5;241m+\u001b[39m\\\n\u001b[1;32m   1317\u001b[0m     \u001b[38;5;28mself\u001b[39m\u001b[38;5;241m.\u001b[39mcommand_header \u001b[38;5;241m+\u001b[39m\\\n\u001b[1;32m   1318\u001b[0m     args_command \u001b[38;5;241m+\u001b[39m\\\n\u001b[1;32m   1319\u001b[0m     proto\u001b[38;5;241m.\u001b[39mEND_COMMAND_PART\n\u001b[1;32m   1321\u001b[0m answer \u001b[38;5;241m=\u001b[39m \u001b[38;5;28mself\u001b[39m\u001b[38;5;241m.\u001b[39mgateway_client\u001b[38;5;241m.\u001b[39msend_command(command)\n\u001b[0;32m-> 1322\u001b[0m return_value \u001b[38;5;241m=\u001b[39m \u001b[43mget_return_value\u001b[49m\u001b[43m(\u001b[49m\n\u001b[1;32m   1323\u001b[0m \u001b[43m    \u001b[49m\u001b[43manswer\u001b[49m\u001b[43m,\u001b[49m\u001b[43m \u001b[49m\u001b[38;5;28;43mself\u001b[39;49m\u001b[38;5;241;43m.\u001b[39;49m\u001b[43mgateway_client\u001b[49m\u001b[43m,\u001b[49m\u001b[43m \u001b[49m\u001b[38;5;28;43mself\u001b[39;49m\u001b[38;5;241;43m.\u001b[39;49m\u001b[43mtarget_id\u001b[49m\u001b[43m,\u001b[49m\u001b[43m \u001b[49m\u001b[38;5;28;43mself\u001b[39;49m\u001b[38;5;241;43m.\u001b[39;49m\u001b[43mname\u001b[49m\u001b[43m)\u001b[49m\n\u001b[1;32m   1325\u001b[0m \u001b[38;5;28;01mfor\u001b[39;00m temp_arg \u001b[38;5;129;01min\u001b[39;00m temp_args:\n\u001b[1;32m   1326\u001b[0m     \u001b[38;5;28;01mif\u001b[39;00m \u001b[38;5;28mhasattr\u001b[39m(temp_arg, \u001b[38;5;124m\"\u001b[39m\u001b[38;5;124m_detach\u001b[39m\u001b[38;5;124m\"\u001b[39m):\n",
      "File \u001b[0;32m/usr/local/spark/python/pyspark/errors/exceptions/captured.py:185\u001b[0m, in \u001b[0;36mcapture_sql_exception.<locals>.deco\u001b[0;34m(*a, **kw)\u001b[0m\n\u001b[1;32m    181\u001b[0m converted \u001b[38;5;241m=\u001b[39m convert_exception(e\u001b[38;5;241m.\u001b[39mjava_exception)\n\u001b[1;32m    182\u001b[0m \u001b[38;5;28;01mif\u001b[39;00m \u001b[38;5;129;01mnot\u001b[39;00m \u001b[38;5;28misinstance\u001b[39m(converted, UnknownException):\n\u001b[1;32m    183\u001b[0m     \u001b[38;5;66;03m# Hide where the exception came from that shows a non-Pythonic\u001b[39;00m\n\u001b[1;32m    184\u001b[0m     \u001b[38;5;66;03m# JVM exception message.\u001b[39;00m\n\u001b[0;32m--> 185\u001b[0m     \u001b[38;5;28;01mraise\u001b[39;00m converted \u001b[38;5;28;01mfrom\u001b[39;00m \u001b[38;5;28;01mNone\u001b[39;00m\n\u001b[1;32m    186\u001b[0m \u001b[38;5;28;01melse\u001b[39;00m:\n\u001b[1;32m    187\u001b[0m     \u001b[38;5;28;01mraise\u001b[39;00m\n",
      "\u001b[0;31mAnalysisException\u001b[0m: [UNRESOLVED_COLUMN.WITH_SUGGESTION] A column or function parameter with name `totalDropValue` cannot be resolved. Did you mean one of the following? [`maxDamage`, `healthPoints`, `ID`, `mobID`, `name`].;\n'Project [ID#17, name#18, healthPoints#135, maxDamage#140, difficultyScore#145, mobID#81, CAST(sum(hunger) AS totalDropValue AS DOUBLE)#114, CASE WHEN isnull('totalDropValue) THEN 0 ELSE 'totalDropValue END AS totalDropValue#170]\n+- Join LeftOuter, (ID#17 = mobID#81)\n   :- Project [ID#17, name#18, healthPoints#135, maxDamage#140, (healthPoints#135 + (maxDamage#140 * cast(2 as double))) AS difficultyScore#145]\n   :  +- Project [ID#17, name#18, healthPoints#135, cast(CASE WHEN isnull(maxDamage#22) THEN 0 ELSE maxDamage#22 END as double) AS maxDamage#140]\n   :     +- Project [ID#17, name#18, cast(healthPoints#21 as double) AS healthPoints#135, maxDamage#22]\n   :        +- Project [ID#17, name#18, healthPoints#21, maxDamage#22]\n   :           +- Relation [ID#17,name#18,behaviorTypes#19,spawnBehavior#20,healthPoints#21,maxDamage#22,debutDate#23,minecraftVersion#24,reproductiveRequirement#25] csv\n   +- Aggregate [mobID#81], [mobID#81, cast(sum(hunger#55) as double) AS CAST(sum(hunger) AS totalDropValue AS DOUBLE)#114]\n      +- Project [mobID#81, hunger#55]\n         +- Join LeftOuter, (foodID#82 = ID#52)\n            :- Relation [mobID#81,foodID#82] csv\n            +- Project [ID#52, name#53, type#54, hunger#55]\n               +- Relation [ID#52,name#53,type#54,hunger#55,debutDate#56,minecraftVersion#57] csv\n"
     ]
    }
   ],
   "source": [
    "from pyspark.sql.functions import col, when, format_number\n",
    "\n",
    "# mobs.ID ↔ mob_drop_value.mobID 연결\n",
    "mob_efficiency = mobs.join(mob_drop_value, mobs[\"ID\"] == mob_drop_value[\"mobID\"], how=\"left\")\n",
    "\n",
    "# NULL 처리: 드롭 없으면 0\n",
    "mob_efficiency = mob_efficiency.withColumn(\n",
    "    \"totalDropValue\",\n",
    "    when(col(\"totalDropValue\").isNull(), 0).otherwise(col(\"totalDropValue\"))\n",
    ")\n",
    "\n",
    "# 가성비 계산: 드롭 가치 / (사냥 난이도 + 1)\n",
    "mob_efficiency = mob_efficiency.withColumn(\n",
    "    \"efficiencyScore\",\n",
    "    col(\"totalDropValue\") / (col(\"difficultyScore\") + 1)\n",
    ")\n",
    "\n",
    "# totalDropValue가 0인 행 제거\n",
    "mob_efficiency = mob_efficiency.filter(col(\"totalDropValue\") > 0)\n",
    "\n",
    "# 소수점 둘째자리로 포맷 (출력용)\n",
    "mob_efficiency = mob_efficiency.withColumn(\n",
    "    \"efficiencyScore\", format_number(\"efficiencyScore\", 2)\n",
    ")\n",
    "\n",
    "# 출력\n",
    "mob_efficiency.select(\n",
    "    \"name\", \"healthPoints\", \"maxDamage\", \"difficultyScore\", \"totalDropValue\", \"efficiencyScore\"\n",
    ").orderBy(col(\"efficiencyScore\").desc()).show(30, truncate=False)"
   ]
  },
  {
   "cell_type": "code",
   "execution_count": null,
   "id": "8bddd80e-f5f9-472e-bc57-f96a04871abf",
   "metadata": {},
   "outputs": [],
   "source": [
    "from pyspark.sql.functions import col\n",
    "\n",
    "mob_efficiency = mob_efficiency.withColumn(\"efficiencyScore\", col(\"efficiencyScore\").cast(\"double\"))\n"
   ]
  },
  {
   "cell_type": "code",
   "execution_count": null,
   "id": "79a29e74-ddff-4d33-81a3-cb15399bbc87",
   "metadata": {},
   "outputs": [],
   "source": [
    "# 5. 피처 엔지니어링: 필요 컬럼 선택\n",
    "features = [\"difficultyScore\", \"totalDropValue\"]\n"
   ]
  },
  {
   "cell_type": "code",
   "execution_count": null,
   "id": "a30ba7d9-8ab7-454b-8d84-36b8477596a8",
   "metadata": {},
   "outputs": [],
   "source": [
    "stages = []"
   ]
  },
  {
   "cell_type": "code",
   "execution_count": null,
   "id": "5227da8c-8f6a-4418-beea-1765304fe353",
   "metadata": {},
   "outputs": [],
   "source": [
    "from pyspark.ml.feature import StandardScaler, VectorAssembler\n",
    "\n",
    "num_assembler = VectorAssembler(inputCols=[\"difficultyScore\", \"totalDropValue\"], outputCol= 'feature_vector')\n",
    "stages += [num_assembler]\n",
    "\n",
    "stages"
   ]
  },
  {
   "cell_type": "code",
   "execution_count": null,
   "id": "38a15dc1-eb9b-4c7c-b121-2ef27bf1a992",
   "metadata": {},
   "outputs": [],
   "source": [
    "train_df, test_df = mob_efficiency.randomSplit([0.8,0.2], seed=360)"
   ]
  },
  {
   "cell_type": "code",
   "execution_count": null,
   "id": "1d59e8e4-cb8c-4c75-af4e-0548d748e246",
   "metadata": {
    "scrolled": true
   },
   "outputs": [],
   "source": [
    "from pyspark.ml import Pipeline\n",
    "pipeline = Pipeline(stages=stages)\n",
    "fitted_transform = pipeline.fit(train_df)\n",
    "vtrain_df = fitted_transform.transform(train_df)\n",
    "vtrain_df.printSchema()"
   ]
  },
  {
   "cell_type": "code",
   "execution_count": null,
   "id": "7e01bc39-4755-42e5-b09d-35dc38341972",
   "metadata": {},
   "outputs": [],
   "source": [
    "vtrain_df.select('feature_vector', 'efficiencyScore').show(2)"
   ]
  },
  {
   "cell_type": "code",
   "execution_count": null,
   "id": "1b4d82d4-f3ec-4fa5-aba7-8dced7191c62",
   "metadata": {},
   "outputs": [],
   "source": [
    "from pyspark.ml.regression import LinearRegression\n",
    "lr = LinearRegression(maxIter=50, solver='normal', \n",
    "                 labelCol='efficiencyScore', featuresCol='feature_vector')"
   ]
  },
  {
   "cell_type": "code",
   "execution_count": null,
   "id": "83ece2c6-d4a9-4b2b-a1e1-9f5dd5671d8b",
   "metadata": {},
   "outputs": [],
   "source": [
    "model = lr.fit(vtrain_df)"
   ]
  },
  {
   "cell_type": "code",
   "execution_count": null,
   "id": "cd126538-ae16-4eaa-8e0d-f8677f934c66",
   "metadata": {},
   "outputs": [],
   "source": [
    "#테스트데이터도 변환\n",
    "vtest_df = fitted_transform.transform(test_df)\n",
    "#테스트데이터로 예측\n",
    "pred = model.transform(vtest_df)"
   ]
  },
  {
   "cell_type": "code",
   "execution_count": null,
   "id": "342cdfbd-83ff-40d9-b96b-d0297017ee04",
   "metadata": {},
   "outputs": [],
   "source": [
    "pred.select('efficiencyScore', 'prediction').show()"
   ]
  },
  {
   "cell_type": "code",
   "execution_count": null,
   "id": "e5caae24-2c09-4dc4-994e-b527dfd57ce7",
   "metadata": {},
   "outputs": [],
   "source": [
    "model.summary.r2, model.summary.rootMeanSquaredError"
   ]
  },
  {
   "cell_type": "code",
   "execution_count": null,
   "id": "eb4a2dad-72f2-4565-b887-cb9081a44f31",
   "metadata": {},
   "outputs": [],
   "source": [
    "spark.stop()"
   ]
  }
 ],
 "metadata": {
  "kernelspec": {
   "display_name": "Python 3 (ipykernel)",
   "language": "python",
   "name": "python3"
  },
  "language_info": {
   "codemirror_mode": {
    "name": "ipython",
    "version": 3
   },
   "file_extension": ".py",
   "mimetype": "text/x-python",
   "name": "python",
   "nbconvert_exporter": "python",
   "pygments_lexer": "ipython3",
   "version": "3.11.6"
  }
 },
 "nbformat": 4,
 "nbformat_minor": 5
}
