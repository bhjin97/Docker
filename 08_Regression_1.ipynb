{
 "cells": [
  {
   "cell_type": "code",
   "execution_count": 14,
   "id": "bde068e7-14d6-4245-9483-98cd552bfc10",
   "metadata": {
    "jupyter": {
     "source_hidden": true
    }
   },
   "outputs": [],
   "source": [
    "from pyspark.ml.feature import (\n",
    "    StringIndexer,        # 범주형 → 수치형 인코딩\n",
    "    OneHotEncoder,        # 원-핫 인코딩\n",
    "    VectorAssembler,      # 여러 컬럼 → 하나의 feature 벡터\n",
    "    StandardScaler,       # 표준 정규화\n",
    "    MinMaxScaler,         # 최소/최대 스케일링\n",
    "    Bucketizer,           # 연속형 변수 → 구간화\n",
    "    QuantileDiscretizer,  # 분위수 기반 구간화\n",
    "    PCA,                  # 주성분 분석\n",
    "    PolynomialExpansion,  # 다항 특성 생성\n",
    "    ChiSqSelector         # 카이제곱 기반 피처 선택\n",
    ")\n",
    "from pyspark.ml.classification import (\n",
    "    LogisticRegression,\n",
    "    DecisionTreeClassifier,\n",
    "    RandomForestClassifier,\n",
    "    GBTClassifier,\n",
    "    NaiveBayes,\n",
    "    MultilayerPerceptronClassifier\n",
    ")\n",
    "\n",
    "from pyspark.ml.regression import (\n",
    "    LinearRegression,\n",
    "    DecisionTreeRegressor,\n",
    "    RandomForestRegressor,\n",
    "    GBTRegressor\n",
    ")\n",
    "from pyspark.ml.clustering import (\n",
    "    KMeans,\n",
    "    GaussianMixture,\n",
    "    BisectingKMeans,\n",
    "    LDA  # Latent Dirichlet Allocation (토픽 모델링)\n",
    ")\n",
    "from pyspark.ml.evaluation import (\n",
    "    BinaryClassificationEvaluator,\n",
    "    MulticlassClassificationEvaluator,\n",
    "    RegressionEvaluator,\n",
    "    ClusteringEvaluator\n",
    ")\n",
    "from pyspark.ml import Pipeline  # 전체 파이프라인 구성\n",
    "\n",
    "from pyspark.ml.tuning import (   # 모델 튜닝\n",
    "    ParamGridBuilder,\n",
    "    CrossValidator,\n",
    "    TrainValidationSplit\n",
    ")\n",
    "from pyspark.ml.linalg import Vectors, DenseVector, SparseVector  # 벡터 수동 생성\n",
    "from pyspark.ml.stat import Correlation, ChiSquareTest            # 통계 테스트"
   ]
  },
  {
   "cell_type": "code",
   "execution_count": 1,
   "id": "8fa49cfc-c344-4ad0-bf53-c89299d28cef",
   "metadata": {},
   "outputs": [
    {
     "data": {
      "text/html": [
       "\n",
       "            <div>\n",
       "                <p><b>SparkSession - in-memory</b></p>\n",
       "                \n",
       "        <div>\n",
       "            <p><b>SparkContext</b></p>\n",
       "\n",
       "            <p><a href=\"http://6c0a9c5a271b:4041\">Spark UI</a></p>\n",
       "\n",
       "            <dl>\n",
       "              <dt>Version</dt>\n",
       "                <dd><code>v3.5.0</code></dd>\n",
       "              <dt>Master</dt>\n",
       "                <dd><code>local[*]</code></dd>\n",
       "              <dt>AppName</dt>\n",
       "                <dd><code>taxi-fare-prediction</code></dd>\n",
       "            </dl>\n",
       "        </div>\n",
       "        \n",
       "            </div>\n",
       "        "
      ],
      "text/plain": [
       "<pyspark.sql.session.SparkSession at 0x7fb99ef97950>"
      ]
     },
     "execution_count": 1,
     "metadata": {},
     "output_type": "execute_result"
    }
   ],
   "source": [
    "from pyspark.sql import SparkSession\n",
    "\n",
    "spark = SparkSession.builder.appName('taxi-fare-prediction').getOrCreate()\n",
    "spark"
   ]
  },
  {
   "cell_type": "code",
   "execution_count": 2,
   "id": "e5eeaabe-3a82-4b0f-8a3e-a96d5e35c95c",
   "metadata": {},
   "outputs": [
    {
     "data": {
      "text/plain": [
       "'/home/jovyan/work/learning_spark_data/trips/*.csv'"
      ]
     },
     "execution_count": 2,
     "metadata": {},
     "output_type": "execute_result"
    }
   ],
   "source": [
    "import os\n",
    "cwd =os.getcwd()\n",
    "trip_data_path = os.path.join(cwd, 'learning_spark_data', 'trips', '*.csv' )\n",
    "trip_data_path"
   ]
  },
  {
   "cell_type": "code",
   "execution_count": 3,
   "id": "a95f430e-9eab-4306-ae96-52046223e654",
   "metadata": {},
   "outputs": [],
   "source": [
    "file_path = f\"file:///{trip_data_path.replace(os.sep, '/')}\""
   ]
  },
  {
   "cell_type": "code",
   "execution_count": 4,
   "id": "f09e1acb-3ad8-4e3f-926a-7ee62255a98e",
   "metadata": {},
   "outputs": [
    {
     "name": "stdout",
     "output_type": "stream",
     "text": [
      "root\n",
      " |-- VendorID: integer (nullable = true)\n",
      " |-- tpep_pickup_datetime: timestamp (nullable = true)\n",
      " |-- tpep_dropoff_datetime: timestamp (nullable = true)\n",
      " |-- passenger_count: integer (nullable = true)\n",
      " |-- trip_distance: double (nullable = true)\n",
      " |-- RatecodeID: integer (nullable = true)\n",
      " |-- store_and_fwd_flag: string (nullable = true)\n",
      " |-- PULocationID: integer (nullable = true)\n",
      " |-- DOLocationID: integer (nullable = true)\n",
      " |-- payment_type: integer (nullable = true)\n",
      " |-- fare_amount: double (nullable = true)\n",
      " |-- extra: double (nullable = true)\n",
      " |-- mta_tax: double (nullable = true)\n",
      " |-- tip_amount: double (nullable = true)\n",
      " |-- tolls_amount: double (nullable = true)\n",
      " |-- improvement_surcharge: double (nullable = true)\n",
      " |-- total_amount: double (nullable = true)\n",
      " |-- congestion_surcharge: double (nullable = true)\n",
      "\n"
     ]
    }
   ],
   "source": [
    "trip_df = spark.read.csv(file_path, inferSchema=True, header=True)\n",
    "trip_df.printSchema()"
   ]
  },
  {
   "cell_type": "code",
   "execution_count": 6,
   "id": "fc8c6f04-ea2b-49ed-b77b-dc576f566dcb",
   "metadata": {},
   "outputs": [],
   "source": [
    "trip_df.createOrReplaceTempView('trips')"
   ]
  },
  {
   "cell_type": "code",
   "execution_count": 7,
   "id": "623c5690-67fb-47a7-9d62-f05ee929e74c",
   "metadata": {},
   "outputs": [],
   "source": [
    "query = \"\"\"\n",
    "SELECT\n",
    "    trip_distance,\n",
    "    total_amount\n",
    "FROM trips\n",
    "\n",
    "WHERE total_amount < 5000\n",
    "  AND total_amount > 0\n",
    "  AND trip_distance > 0\n",
    "  AND trip_distance < 500\n",
    "  AND passenger_count < 4\n",
    "  AND TO_DATE(tpep_pickup_datetime) >= \"2021-01-01\"\n",
    "  AND TO_DATE(tpep_pickup_datetime) < \"2021-08-01\"\n",
    "\"\"\"\n",
    "trip_df = spark.sql(query)"
   ]
  },
  {
   "cell_type": "code",
   "execution_count": 8,
   "id": "4a79550f-401d-47cb-9d24-f7cb9a8095cc",
   "metadata": {},
   "outputs": [],
   "source": [
    "trip_df.createOrReplaceTempView('data')"
   ]
  },
  {
   "cell_type": "code",
   "execution_count": 10,
   "id": "84eecb16-6aa3-4989-b315-0596a85af3d8",
   "metadata": {},
   "outputs": [
    {
     "name": "stdout",
     "output_type": "stream",
     "text": [
      "+-------------+------------+\n",
      "|trip_distance|total_amount|\n",
      "+-------------+------------+\n",
      "|         16.5|       70.07|\n",
      "|         1.13|       11.16|\n",
      "|         2.68|       18.59|\n",
      "|         12.4|        43.8|\n",
      "|          9.7|        32.3|\n",
      "+-------------+------------+\n",
      "\n"
     ]
    }
   ],
   "source": [
    "# data table 결과 확인하기\n",
    "spark.sql('select * from data limit 5').show()"
   ]
  },
  {
   "cell_type": "code",
   "execution_count": 13,
   "id": "3ab64d81-b7fe-43ee-8f30-f6ac29196b8a",
   "metadata": {},
   "outputs": [
    {
     "name": "stdout",
     "output_type": "stream",
     "text": [
      "+-------------+------------+\n",
      "|trip_distance|total_amount|\n",
      "+-------------+------------+\n",
      "|         0.01|        3.05|\n",
      "|         0.01|         3.3|\n",
      "|         0.01|         3.3|\n",
      "+-------------+------------+\n",
      "only showing top 3 rows\n",
      "\n",
      "+-------------+------------+\n",
      "|trip_distance|total_amount|\n",
      "+-------------+------------+\n",
      "|         0.01|         3.3|\n",
      "|         0.01|         3.3|\n",
      "|         0.01|         3.3|\n",
      "+-------------+------------+\n",
      "only showing top 3 rows\n",
      "\n"
     ]
    },
    {
     "data": {
      "text/plain": [
       "(None, None)"
      ]
     },
     "execution_count": 13,
     "metadata": {},
     "output_type": "execute_result"
    }
   ],
   "source": [
    "# split 8:2\n",
    "train_data, test_data = trip_df.randomSplit([0.8,0.2], seed = 12)\n",
    "train_data.show(3), test_data.show(3) "
   ]
  },
  {
   "cell_type": "code",
   "execution_count": 16,
   "id": "cf9fc6a6-004b-4b2a-bd28-3929f81cdecf",
   "metadata": {},
   "outputs": [
    {
     "name": "stdout",
     "output_type": "stream",
     "text": [
      "+--------+------------+\n",
      "|features|total_amount|\n",
      "+--------+------------+\n",
      "|  [0.01]|        3.05|\n",
      "|  [0.01]|         3.3|\n",
      "|  [0.01]|         3.3|\n",
      "+--------+------------+\n",
      "only showing top 3 rows\n",
      "\n"
     ]
    }
   ],
   "source": [
    "#vectorassembler > feature : trip_distance, target: total_amount\n",
    "\n",
    "vassembler = VectorAssembler(\n",
    "    inputCols=['trip_distance'],        \n",
    "    outputCol='features'                \n",
    ")\n",
    "vtrain_df = vassembler.transform(train_data)\n",
    "vtrain_df.select('features', 'total_amount').show(3)"
   ]
  },
  {
   "cell_type": "code",
   "execution_count": 20,
   "id": "f50fb38f-f42f-4e1c-9b57-3d47163bfe36",
   "metadata": {},
   "outputs": [
    {
     "name": "stdout",
     "output_type": "stream",
     "text": [
      "+-------------+------------+--------+----------------+\n",
      "|trip_distance|total_amount|features|      prediction|\n",
      "+-------------+------------+--------+----------------+\n",
      "|         0.01|         3.3|  [0.01]|9.38115212649648|\n",
      "|         0.01|         3.3|  [0.01]|9.38115212649648|\n",
      "|         0.01|         3.3|  [0.01]|9.38115212649648|\n",
      "|         0.01|         3.3|  [0.01]|9.38115212649648|\n",
      "|         0.01|         3.3|  [0.01]|9.38115212649648|\n",
      "+-------------+------------+--------+----------------+\n",
      "only showing top 5 rows\n",
      "\n"
     ]
    }
   ],
   "source": [
    "# linearRegression 생성 maxIter = 50, LabelCol='total_amount', featurescol='features'\n",
    "lr = LinearRegression(maxIter=50, labelCol='total_amount', featuresCol='features')\n",
    "# fit\n",
    "lrModel = lr.fit(vtrain_df)\n",
    "# vassem transform\n",
    "vtest_df  =vassembler.transform(test_data)\n",
    "# model.transform\n",
    "pred = lrModel.transform(vtest_df)\n",
    "pred.show(5)"
   ]
  },
  {
   "cell_type": "code",
   "execution_count": null,
   "id": "c862c1e9-8332-4123-bca2-f6f190901dd4",
   "metadata": {},
   "outputs": [],
   "source": [
    "#spark.stop()"
   ]
  },
  {
   "cell_type": "code",
   "execution_count": null,
   "id": "b25c279f-8a84-4558-b2a9-10aa810318a1",
   "metadata": {},
   "outputs": [],
   "source": []
  },
  {
   "cell_type": "code",
   "execution_count": null,
   "id": "ccaf8341-c842-4288-9e9c-542a11947cb7",
   "metadata": {},
   "outputs": [],
   "source": []
  },
  {
   "cell_type": "code",
   "execution_count": null,
   "id": "01655934-554d-4a60-9a47-c8547a31dbda",
   "metadata": {},
   "outputs": [],
   "source": []
  },
  {
   "cell_type": "code",
   "execution_count": null,
   "id": "cb8df048-fa74-4d38-a59b-f7005d5702f9",
   "metadata": {},
   "outputs": [],
   "source": []
  },
  {
   "cell_type": "code",
   "execution_count": null,
   "id": "979ef97f-b73a-46e0-a0d5-b5f7916a336a",
   "metadata": {},
   "outputs": [],
   "source": []
  },
  {
   "cell_type": "code",
   "execution_count": null,
   "id": "24656978-a6b6-47cf-af84-95b3ad102e24",
   "metadata": {},
   "outputs": [],
   "source": []
  },
  {
   "cell_type": "code",
   "execution_count": null,
   "id": "ccd4921c-058f-43b0-a772-c170301a6b50",
   "metadata": {},
   "outputs": [],
   "source": []
  },
  {
   "cell_type": "code",
   "execution_count": null,
   "id": "1d00d4f2-4562-499c-b1e2-1070a9dcf4f2",
   "metadata": {},
   "outputs": [],
   "source": []
  }
 ],
 "metadata": {
  "kernelspec": {
   "display_name": "Python 3 (ipykernel)",
   "language": "python",
   "name": "python3"
  },
  "language_info": {
   "codemirror_mode": {
    "name": "ipython",
    "version": 3
   },
   "file_extension": ".py",
   "mimetype": "text/x-python",
   "name": "python",
   "nbconvert_exporter": "python",
   "pygments_lexer": "ipython3",
   "version": "3.11.6"
  }
 },
 "nbformat": 4,
 "nbformat_minor": 5
}
