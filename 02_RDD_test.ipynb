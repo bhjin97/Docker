{
 "cells": [
  {
   "cell_type": "code",
   "execution_count": 1,
   "id": "55e814d9-c1fc-43b4-b0b5-33171fe18498",
   "metadata": {},
   "outputs": [],
   "source": [
    "from pyspark.sql import SparkSession\n",
    "spark = SparkSession.builder.appName('pyspark example1').getOrCreate()"
   ]
  },
  {
   "cell_type": "markdown",
   "id": "56ce787c-0895-4f4e-a53c-2d34e912fbb2",
   "metadata": {},
   "source": [
    "# RDD에서 다룰 수 있는 데이터 타입 TypeSafe\n",
    "1. 비정형 데이터 - ... json, txt, str\n",
    "2. 정형 데이터 - 리스트, csv, table"
   ]
  },
  {
   "cell_type": "code",
   "execution_count": 2,
   "id": "860e723a-c714-4fd8-99c5-db39d81b1bc4",
   "metadata": {},
   "outputs": [
    {
     "data": {
      "text/plain": [
       "learning_spark_data/log.txt MapPartitionsRDD[1] at textFile at NativeMethodAccessorImpl.java:0"
      ]
     },
     "execution_count": 2,
     "metadata": {},
     "output_type": "execute_result"
    }
   ],
   "source": [
    "rdd1 = spark.sparkContext.textFile('learning_spark_data/log.txt')\n",
    "rdd1"
   ]
  },
  {
   "cell_type": "code",
   "execution_count": 3,
   "id": "29e3987b-4049-4c09-b036-9fd1f215ca4b",
   "metadata": {},
   "outputs": [
    {
     "data": {
      "text/plain": [
       "['2025-07-31 10:00:01 INFO User=kim ACTION=LOGIN RESULT=SUCCESS',\n",
       " '2025-07-31 10:05:43 WARN User=lee ACTION=DOWNLOAD RESULT=FAIL',\n",
       " '2025-07-31 10:08:22 INFO User=park ACTION=UPLOAD RESULT=SUCCESS']"
      ]
     },
     "execution_count": 3,
     "metadata": {},
     "output_type": "execute_result"
    }
   ],
   "source": [
    "rdd1.take(3)"
   ]
  },
  {
   "cell_type": "code",
   "execution_count": 4,
   "id": "d2625210-4330-42f2-8e71-b233b97e989b",
   "metadata": {},
   "outputs": [],
   "source": [
    "#RDD[dict] - data.json"
   ]
  },
  {
   "cell_type": "code",
   "execution_count": 5,
   "id": "4ca956d9-2886-4e29-8d88-c943f12a9391",
   "metadata": {},
   "outputs": [
    {
     "data": {
      "text/plain": [
       "PythonRDD[5] at RDD at PythonRDD.scala:53"
      ]
     },
     "execution_count": 5,
     "metadata": {},
     "output_type": "execute_result"
    }
   ],
   "source": [
    "import json\n",
    "rdd2 = spark.sparkContext\\\n",
    ".textFile('learning_spark_data/data.json').map(json.loads)\n",
    "rdd2"
   ]
  },
  {
   "cell_type": "code",
   "execution_count": 6,
   "id": "faa2da42-74e7-4058-8c27-b028e7654152",
   "metadata": {},
   "outputs": [
    {
     "data": {
      "text/plain": [
       "[{'user': 'kim',\n",
       "  'action': 'login',\n",
       "  'result': 'success',\n",
       "  'time': '2025-07-31 10:00:01'},\n",
       " {'user': 'lee',\n",
       "  'action': 'download',\n",
       "  'result': 'fail',\n",
       "  'time': '2025-07-31 10:05:43'},\n",
       " {'user': 'park',\n",
       "  'action': 'upload',\n",
       "  'result': 'success',\n",
       "  'time': '2025-07-31 10:08:22'}]"
      ]
     },
     "execution_count": 6,
     "metadata": {},
     "output_type": "execute_result"
    }
   ],
   "source": [
    "rdd2.take(3)"
   ]
  },
  {
   "cell_type": "code",
   "execution_count": null,
   "id": "468608e0-e04d-43f1-8df5-31f18ce91800",
   "metadata": {},
   "outputs": [],
   "source": []
  },
  {
   "cell_type": "code",
   "execution_count": null,
   "id": "07a03a9f-3f46-4859-bb7c-05492db61dea",
   "metadata": {},
   "outputs": [],
   "source": []
  },
  {
   "cell_type": "code",
   "execution_count": null,
   "id": "37b58850-d1fd-41a4-b32d-d666540ad11d",
   "metadata": {},
   "outputs": [],
   "source": []
  }
 ],
 "metadata": {
  "kernelspec": {
   "display_name": "Python 3 (ipykernel)",
   "language": "python",
   "name": "python3"
  },
  "language_info": {
   "codemirror_mode": {
    "name": "ipython",
    "version": 3
   },
   "file_extension": ".py",
   "mimetype": "text/x-python",
   "name": "python",
   "nbconvert_exporter": "python",
   "pygments_lexer": "ipython3",
   "version": "3.11.6"
  }
 },
 "nbformat": 4,
 "nbformat_minor": 5
}
