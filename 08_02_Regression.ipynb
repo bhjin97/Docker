{
 "cells": [
  {
   "cell_type": "code",
   "execution_count": 1,
   "id": "8ea41836-b18d-4dda-89f7-74643dc8243b",
   "metadata": {
    "jupyter": {
     "source_hidden": true
    }
   },
   "outputs": [],
   "source": [
    "from pyspark.ml.feature import (\n",
    "    StringIndexer,        # 범주형 → 수치형 인코딩\n",
    "    OneHotEncoder,        # 원-핫 인코딩\n",
    "    VectorAssembler,      # 여러 컬럼 → 하나의 feature 벡터\n",
    "    StandardScaler,       # 표준 정규화\n",
    "    MinMaxScaler,         # 최소/최대 스케일링\n",
    "    Bucketizer,           # 연속형 변수 → 구간화\n",
    "    QuantileDiscretizer,  # 분위수 기반 구간화\n",
    "    PCA,                  # 주성분 분석\n",
    "    PolynomialExpansion,  # 다항 특성 생성\n",
    "    ChiSqSelector         # 카이제곱 기반 피처 선택\n",
    ")\n",
    "from pyspark.ml.classification import (\n",
    "    LogisticRegression,\n",
    "    DecisionTreeClassifier,\n",
    "    RandomForestClassifier,\n",
    "    GBTClassifier,\n",
    "    NaiveBayes,\n",
    "    MultilayerPerceptronClassifier\n",
    ")\n",
    "\n",
    "from pyspark.ml.regression import (\n",
    "    LinearRegression,\n",
    "    DecisionTreeRegressor,\n",
    "    RandomForestRegressor,\n",
    "    GBTRegressor\n",
    ")\n",
    "from pyspark.ml.clustering import (\n",
    "    KMeans,\n",
    "    GaussianMixture,\n",
    "    BisectingKMeans,\n",
    "    LDA  # Latent Dirichlet Allocation (토픽 모델링)\n",
    ")\n",
    "from pyspark.ml.evaluation import (\n",
    "    BinaryClassificationEvaluator,\n",
    "    MulticlassClassificationEvaluator,\n",
    "    RegressionEvaluator,\n",
    "    ClusteringEvaluator\n",
    ")\n",
    "from pyspark.ml import Pipeline  # 전체 파이프라인 구성\n",
    "\n",
    "from pyspark.ml.tuning import (   # 모델 튜닝\n",
    "    ParamGridBuilder,\n",
    "    CrossValidator,\n",
    "    TrainValidationSplit\n",
    ")\n",
    "from pyspark.ml.linalg import Vectors, DenseVector, SparseVector  # 벡터 수동 생성\n",
    "from pyspark.ml.stat import Correlation, ChiSquareTest            # 통계 테스트"
   ]
  },
  {
   "cell_type": "code",
   "execution_count": 2,
   "id": "cceeadbe-5be7-423a-b0ee-479aadc0c16d",
   "metadata": {},
   "outputs": [
    {
     "data": {
      "text/html": [
       "\n",
       "            <div>\n",
       "                <p><b>SparkSession - in-memory</b></p>\n",
       "                \n",
       "        <div>\n",
       "            <p><b>SparkContext</b></p>\n",
       "\n",
       "            <p><a href=\"http://6c0a9c5a271b:4041\">Spark UI</a></p>\n",
       "\n",
       "            <dl>\n",
       "              <dt>Version</dt>\n",
       "                <dd><code>v3.5.0</code></dd>\n",
       "              <dt>Master</dt>\n",
       "                <dd><code>local[*]</code></dd>\n",
       "              <dt>AppName</dt>\n",
       "                <dd><code>taxi-fare-prediction_2nd</code></dd>\n",
       "            </dl>\n",
       "        </div>\n",
       "        \n",
       "            </div>\n",
       "        "
      ],
      "text/plain": [
       "<pyspark.sql.session.SparkSession at 0x7f46b386e0d0>"
      ]
     },
     "execution_count": 2,
     "metadata": {},
     "output_type": "execute_result"
    }
   ],
   "source": [
    "from pyspark.sql import SparkSession\n",
    "MAX_MEMORY = '8g'\n",
    "spark = SparkSession.builder.appName('taxi-fare-prediction_2nd')\\\n",
    "    .config('spark.driver.memory',MAX_MEMORY)\\\n",
    "    .config('spark.executer.memory', MAX_MEMORY)\\\n",
    "    .getOrCreate()\n",
    "spark"
   ]
  },
  {
   "cell_type": "code",
   "execution_count": 3,
   "id": "b5f1130d-c53e-4d3a-a605-40e5dc390f58",
   "metadata": {},
   "outputs": [
    {
     "name": "stdout",
     "output_type": "stream",
     "text": [
      "root\n",
      " |-- VendorID: integer (nullable = true)\n",
      " |-- tpep_pickup_datetime: timestamp (nullable = true)\n",
      " |-- tpep_dropoff_datetime: timestamp (nullable = true)\n",
      " |-- passenger_count: integer (nullable = true)\n",
      " |-- trip_distance: double (nullable = true)\n",
      " |-- RatecodeID: integer (nullable = true)\n",
      " |-- store_and_fwd_flag: string (nullable = true)\n",
      " |-- PULocationID: integer (nullable = true)\n",
      " |-- DOLocationID: integer (nullable = true)\n",
      " |-- payment_type: integer (nullable = true)\n",
      " |-- fare_amount: double (nullable = true)\n",
      " |-- extra: double (nullable = true)\n",
      " |-- mta_tax: double (nullable = true)\n",
      " |-- tip_amount: double (nullable = true)\n",
      " |-- tolls_amount: double (nullable = true)\n",
      " |-- improvement_surcharge: double (nullable = true)\n",
      " |-- total_amount: double (nullable = true)\n",
      " |-- congestion_surcharge: double (nullable = true)\n",
      "\n"
     ]
    }
   ],
   "source": [
    "import os\n",
    "cwd =os.getcwd()\n",
    "trip_data_path = os.path.join(cwd, 'learning_spark_data', 'trips', '*.csv' )\n",
    "file_path = f\"file:///{trip_data_path.replace(os.sep, '/')}\"\n",
    "trip_df = spark.read.csv(file_path, inferSchema=True, header=True)\n",
    "trip_df.printSchema()"
   ]
  },
  {
   "cell_type": "code",
   "execution_count": 4,
   "id": "857e3e27-f485-42f1-8930-0ffe4e75a278",
   "metadata": {},
   "outputs": [],
   "source": [
    "trip_df.createOrReplaceTempView('trips')"
   ]
  },
  {
   "cell_type": "code",
   "execution_count": 5,
   "id": "dc83b9d6-22ab-45fb-a06d-3d5000b86f53",
   "metadata": {},
   "outputs": [
    {
     "name": "stdout",
     "output_type": "stream",
     "text": [
      "+---------------+------------------+-------------------+-------------+-----------+-----------+------------+\n",
      "|passenger_count|pickup_location_id|dropoff_location_id|trip_distance|pickup_time|day_of_week|total_amount|\n",
      "+---------------+------------------+-------------------+-------------+-----------+-----------+------------+\n",
      "|              0|               138|                265|         16.5|          0|     Monday|       70.07|\n",
      "|              1|                68|                264|         1.13|          0|     Monday|       11.16|\n",
      "|              1|               239|                262|         2.68|          0|     Monday|       18.59|\n",
      "|              1|               186|                 91|         12.4|          0|     Monday|        43.8|\n",
      "|              2|               132|                265|          9.7|          0|     Monday|        32.3|\n",
      "+---------------+------------------+-------------------+-------------+-----------+-----------+------------+\n",
      "only showing top 5 rows\n",
      "\n"
     ]
    }
   ],
   "source": [
    "query = '''\n",
    "SELECT \n",
    "    passenger_count,\n",
    "    PULocationID as pickup_location_id,\n",
    "    DOLocationID as dropoff_location_id,\n",
    "    trip_distance,\n",
    "    HOUR(tpep_pickup_datetime) as pickup_time,\n",
    "    DATE_FORMAT(TO_DATE(tpep_pickup_datetime), 'EEEE') AS day_of_week,\n",
    "    total_amount\n",
    "FROM\n",
    "    trips\n",
    "WHERE\n",
    "    total_amount < 5000\n",
    "    AND total_amount > 0\n",
    "    AND trip_distance > 0\n",
    "    AND trip_distance < 500\n",
    "    AND passenger_count < 4\n",
    "    AND TO_DATE(tpep_pickup_datetime) >= '2021-01-01'\n",
    "    AND TO_DATE(tpep_pickup_datetime) < '2021-08-01'\n",
    "    '''\n",
    "data_df = spark.sql(query)\n",
    "data_df.show(5)"
   ]
  },
  {
   "cell_type": "code",
   "execution_count": 6,
   "id": "fe2b175b-5cd8-4819-9467-e153c3b9ebfa",
   "metadata": {},
   "outputs": [
    {
     "name": "stdout",
     "output_type": "stream",
     "text": [
      "+---------------+------------------+-------------------+-------------+-----------+-----------+------------+\n",
      "|passenger_count|pickup_location_id|dropoff_location_id|trip_distance|pickup_time|day_of_week|total_amount|\n",
      "+---------------+------------------+-------------------+-------------+-----------+-----------+------------+\n",
      "|              0|                 4|                  4|          0.1|         18|   Saturday|         6.3|\n",
      "|              0|                 4|                 79|          0.7|         12|    Tuesday|         8.8|\n",
      "|              0|                 4|                 79|          0.7|         23|   Saturday|       12.35|\n",
      "+---------------+------------------+-------------------+-------------+-----------+-----------+------------+\n",
      "only showing top 3 rows\n",
      "\n",
      "+---------------+------------------+-------------------+-------------+-----------+-----------+------------+\n",
      "|passenger_count|pickup_location_id|dropoff_location_id|trip_distance|pickup_time|day_of_week|total_amount|\n",
      "+---------------+------------------+-------------------+-------------+-----------+-----------+------------+\n",
      "|              0|                 4|                107|          1.0|          9|    Tuesday|       10.55|\n",
      "|              0|                 4|                234|          1.7|         18|   Saturday|        13.3|\n",
      "|              0|                 4|                236|          4.1|         15|     Friday|        21.3|\n",
      "+---------------+------------------+-------------------+-------------+-----------+-----------+------------+\n",
      "only showing top 3 rows\n",
      "\n"
     ]
    },
    {
     "data": {
      "text/plain": [
       "(None, None)"
      ]
     },
     "execution_count": 6,
     "metadata": {},
     "output_type": "execute_result"
    }
   ],
   "source": [
    "# split 8:2\n",
    "train_data, test_data = data_df.randomSplit([0.8, 0.2], seed = 1)\n",
    "train_data.show(3), test_data.show(3) "
   ]
  },
  {
   "cell_type": "markdown",
   "id": "34cd28c0-a166-4db0-84d6-f7e3123311d2",
   "metadata": {},
   "source": [
    "# 파이프라인 생성\n",
    "- 전처리과정을 각 스테이지로 정의해서 쌓는다\n",
    "- 범주형] onehotencoding : 'pickup_location_id', 'dropoff_location_id',\n",
    "'day_of_week'\n",
    "- : 수치형] StandardScaler : 'passenger_count', 'trip_distance', 'pickup_time'"
   ]
  },
  {
   "cell_type": "code",
   "execution_count": 7,
   "id": "4ce3004d-921a-48ed-80d2-f019e92bbb3e",
   "metadata": {},
   "outputs": [],
   "source": [
    "stages = []"
   ]
  },
  {
   "cell_type": "code",
   "execution_count": 8,
   "id": "aa64715c-6bbe-4116-a2a3-3625b96ea374",
   "metadata": {},
   "outputs": [
    {
     "data": {
      "text/plain": [
       "[StringIndexer_33275a2e4e39,\n",
       " OneHotEncoder_04c2c1fe86a6,\n",
       " StringIndexer_a6d3010e9c76,\n",
       " OneHotEncoder_f11f1fb41026,\n",
       " StringIndexer_77283e997b82,\n",
       " OneHotEncoder_cfdadbaadbc3]"
      ]
     },
     "execution_count": 8,
     "metadata": {},
     "output_type": "execute_result"
    }
   ],
   "source": [
    "cat_features = ['pickup_location_id', 'dropoff_location_id', 'day_of_week']\n",
    "for cat in cat_features:\n",
    "    cat_index = StringIndexer(inputCol=cat, outputCol=cat+'_idx')\\\n",
    "    .setHandleInvalid('keep')\n",
    "    onehot_encode = OneHotEncoder(inputCols = [cat_index.getOutputCol()], #_idx col\n",
    "                                 outputCols=[cat+'_onehot']) #postfix\n",
    "    stages += [cat_index, onehot_encode] #collist\n",
    "stages"
   ]
  },
  {
   "cell_type": "code",
   "execution_count": 9,
   "id": "7a506110-53f7-4499-adb3-cd65011709bc",
   "metadata": {},
   "outputs": [
    {
     "data": {
      "text/plain": [
       "[StringIndexer_33275a2e4e39,\n",
       " OneHotEncoder_04c2c1fe86a6,\n",
       " StringIndexer_a6d3010e9c76,\n",
       " OneHotEncoder_f11f1fb41026,\n",
       " StringIndexer_77283e997b82,\n",
       " OneHotEncoder_cfdadbaadbc3,\n",
       " VectorAssembler_7f6ee495216a,\n",
       " StandardScaler_5ec61a4d66c8,\n",
       " VectorAssembler_53cb1e0eeb7f,\n",
       " StandardScaler_4ed1dc8cce7b,\n",
       " VectorAssembler_195d0d10bce8,\n",
       " StandardScaler_4a5d60853a7a]"
      ]
     },
     "execution_count": 9,
     "metadata": {},
     "output_type": "execute_result"
    }
   ],
   "source": [
    "num_features = ['passenger_count', 'trip_distance', 'pickup_time']\n",
    "for num in num_features:\n",
    "    num_assembler = VectorAssembler(\n",
    "        inputCols=[num],        \n",
    "        outputCol= num+'_vector'\n",
    "    )\n",
    "    num_scaler = StandardScaler(\n",
    "        inputCol=num_assembler.getOutputCol(),        \n",
    "        outputCol= num+'_scaled'\n",
    "    )\n",
    "    stages += [num_assembler, num_scaler]\n",
    "\n",
    "stages"
   ]
  },
  {
   "cell_type": "code",
   "execution_count": 12,
   "id": "f2f140ad-1ed5-4850-8f23-173d46b525d7",
   "metadata": {},
   "outputs": [
    {
     "data": {
      "text/plain": [
       "['pickup_location_id_onehot',\n",
       " 'dropoff_location_id_onehot',\n",
       " 'day_of_week_onehot',\n",
       " 'passenger_count_scaled',\n",
       " 'trip_distance_scaled',\n",
       " 'pickup_time_scaled']"
      ]
     },
     "execution_count": 12,
     "metadata": {},
     "output_type": "execute_result"
    }
   ],
   "source": [
    "assembler_input = [cat+'_onehot' for cat in cat_features] + [num+'_scaled' for num in num_features]\n",
    "assembler_input"
   ]
  },
  {
   "cell_type": "markdown",
   "id": "ef2592f0-5fb4-4f0f-9a7d-33e261972acb",
   "metadata": {},
   "source": [
    "선형회귀모델 - 값들이 수치형\n",
    "데이터는 피쳐6개 라벨 1개\n",
    "범주형은 원핫, 수치형은 스케일처리\n"
   ]
  },
  {
   "cell_type": "code",
   "execution_count": 13,
   "id": "e2f920b5-9407-4f86-909d-b28c3817772f",
   "metadata": {
    "collapsed": true,
    "jupyter": {
     "outputs_hidden": true
    }
   },
   "outputs": [
    {
     "data": {
      "text/plain": [
       "[StringIndexer_33275a2e4e39,\n",
       " OneHotEncoder_04c2c1fe86a6,\n",
       " StringIndexer_a6d3010e9c76,\n",
       " OneHotEncoder_f11f1fb41026,\n",
       " StringIndexer_77283e997b82,\n",
       " OneHotEncoder_cfdadbaadbc3,\n",
       " VectorAssembler_7f6ee495216a,\n",
       " StandardScaler_5ec61a4d66c8,\n",
       " VectorAssembler_53cb1e0eeb7f,\n",
       " StandardScaler_4ed1dc8cce7b,\n",
       " VectorAssembler_195d0d10bce8,\n",
       " StandardScaler_4a5d60853a7a,\n",
       " VectorAssembler_5b5149af7b06]"
      ]
     },
     "execution_count": 13,
     "metadata": {},
     "output_type": "execute_result"
    }
   ],
   "source": [
    "assembler = VectorAssembler(inputCols=assembler_input, outputCol='feature_vector')\n",
    "stages += [assembler]\n",
    "stages"
   ]
  },
  {
   "cell_type": "code",
   "execution_count": null,
   "id": "efcfc51c-7145-43c6-99d8-7011e1875dcf",
   "metadata": {},
   "outputs": [],
   "source": [
    "pipeline = Pipeline(stages=stages)\n",
    "fitted_transform = pipeline.fit(train_data)\n",
    "vtrain_df = fitted_transform.transform(train_data)\n",
    "vtrain_df.printSchema()"
   ]
  },
  {
   "cell_type": "code",
   "execution_count": null,
   "id": "5edd160f-6c9f-4b70-9b13-7f453a7ac2d0",
   "metadata": {},
   "outputs": [],
   "source": [
    "# linearRegression 생성 maxIter = 50, LabelCol='total_amount', featurescol='features'\n",
    "lr = LinearRegression(maxIter=50, labelCol='total_amount', featuresCol='features')\n",
    "# fit\n",
    "lrModel = lr.fit(vtrain_df)\n",
    "# vassem transform\n",
    "vtest_df  =assembler.transform(test_data)\n",
    "# model.transform\n",
    "pred = lrModel.transform(vtest_df)\n",
    "pred.show(5)"
   ]
  },
  {
   "cell_type": "code",
   "execution_count": null,
   "id": "d330e854-2344-4db4-964f-f6cf6bd1416f",
   "metadata": {},
   "outputs": [],
   "source": []
  }
 ],
 "metadata": {
  "kernelspec": {
   "display_name": "Python 3 (ipykernel)",
   "language": "python",
   "name": "python3"
  },
  "language_info": {
   "codemirror_mode": {
    "name": "ipython",
    "version": 3
   },
   "file_extension": ".py",
   "mimetype": "text/x-python",
   "name": "python",
   "nbconvert_exporter": "python",
   "pygments_lexer": "ipython3",
   "version": "3.11.6"
  }
 },
 "nbformat": 4,
 "nbformat_minor": 5
}
