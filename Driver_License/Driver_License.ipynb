{
 "cells": [
  {
   "cell_type": "markdown",
   "id": "d227ffbe-2d4f-49d1-9f40-e6186634370d",
   "metadata": {},
   "source": [
    "# 1. 세션 및 라이브러리 불러오기"
   ]
  },
  {
   "cell_type": "markdown",
   "id": "80fbc2e7-073a-40cd-9c0c-47155763682d",
   "metadata": {},
   "source": [
    "## Library"
   ]
  },
  {
   "cell_type": "code",
   "execution_count": 1,
   "id": "44b4f2ee-3c26-40f9-af0f-640b0b82dfc4",
   "metadata": {
    "jupyter": {
     "source_hidden": true
    }
   },
   "outputs": [],
   "source": [
    "from pyspark.ml.feature import (\n",
    "    StringIndexer,        # 범주형 → 수치형 인코딩\n",
    "    OneHotEncoder,        # 원-핫 인코딩\n",
    "    VectorAssembler,      # 여러 컬럼 → 하나의 feature 벡터\n",
    "    StandardScaler,       # 표준 정규화\n",
    "    MinMaxScaler,         # 최소/최대 스케일링\n",
    "    Bucketizer,           # 연속형 변수 → 구간화\n",
    "    QuantileDiscretizer,  # 분위수 기반 구간화\n",
    "    PCA,                  # 주성분 분석\n",
    "    PolynomialExpansion,  # 다항 특성 생성\n",
    "    ChiSqSelector         # 카이제곱 기반 피처 선택\n",
    ")\n",
    "from pyspark.ml.classification import (\n",
    "    LogisticRegression,\n",
    "    DecisionTreeClassifier,\n",
    "    RandomForestClassifier,\n",
    "    GBTClassifier,\n",
    "    NaiveBayes,\n",
    "    MultilayerPerceptronClassifier\n",
    ")\n",
    "\n",
    "from pyspark.ml.regression import (\n",
    "    LinearRegression,\n",
    "    DecisionTreeRegressor,\n",
    "    RandomForestRegressor,\n",
    "    GBTRegressor\n",
    ")\n",
    "from pyspark.ml.clustering import (\n",
    "    KMeans,\n",
    "    GaussianMixture,\n",
    "    BisectingKMeans,\n",
    "    LDA  # Latent Dirichlet Allocation (토픽 모델링)\n",
    ")\n",
    "from pyspark.ml.evaluation import (\n",
    "    BinaryClassificationEvaluator,\n",
    "    MulticlassClassificationEvaluator,\n",
    "    RegressionEvaluator,\n",
    "    ClusteringEvaluator\n",
    ")\n",
    "from pyspark.ml import Pipeline  # 전체 파이프라인 구성\n",
    "\n",
    "from pyspark.ml.tuning import (   # 모델 튜닝\n",
    "    ParamGridBuilder,\n",
    "    CrossValidator,\n",
    "    TrainValidationSplit\n",
    ")\n",
    "from pyspark.ml.linalg import Vectors, DenseVector, SparseVector  # 벡터 수동 생성\n",
    "from pyspark.ml.stat import Correlation, ChiSquareTest            # 통계 테스트\n",
    "from pyspark.sql import SparkSession\n",
    "import os\n",
    "from pyspark.sql.functions import *"
   ]
  },
  {
   "cell_type": "markdown",
   "id": "b81d1507-15f1-4cac-8fdf-47286d18878b",
   "metadata": {},
   "source": [
    "## SparkSession"
   ]
  },
  {
   "cell_type": "code",
   "execution_count": 2,
   "id": "aa7a0522-f17b-4ba2-bca9-43386d215b8c",
   "metadata": {},
   "outputs": [
    {
     "data": {
      "text/html": [
       "\n",
       "            <div>\n",
       "                <p><b>SparkSession - in-memory</b></p>\n",
       "                \n",
       "        <div>\n",
       "            <p><b>SparkContext</b></p>\n",
       "\n",
       "            <p><a href=\"http://c4e92947cdd1:4040\">Spark UI</a></p>\n",
       "\n",
       "            <dl>\n",
       "              <dt>Version</dt>\n",
       "                <dd><code>v3.5.0</code></dd>\n",
       "              <dt>Master</dt>\n",
       "                <dd><code>local[*]</code></dd>\n",
       "              <dt>AppName</dt>\n",
       "                <dd><code>Drivers License Data</code></dd>\n",
       "            </dl>\n",
       "        </div>\n",
       "        \n",
       "            </div>\n",
       "        "
      ],
      "text/plain": [
       "<pyspark.sql.session.SparkSession at 0x7fd50b23a110>"
      ]
     },
     "execution_count": 2,
     "metadata": {},
     "output_type": "execute_result"
    }
   ],
   "source": [
    "spark = SparkSession.builder.appName('Drivers License Data').getOrCreate()\n",
    "spark"
   ]
  },
  {
   "cell_type": "markdown",
   "id": "812c216f-a3f6-4430-b18e-c92c47e2c6b9",
   "metadata": {},
   "source": [
    "# 2. 데이터 불러오기"
   ]
  },
  {
   "cell_type": "code",
   "execution_count": 3,
   "id": "4352c2ed-ff02-4a6b-a98b-3dc508a4b9ea",
   "metadata": {},
   "outputs": [],
   "source": [
    "df = spark.read.csv(\"Driver_License/learning_spark_data/Drivers License Data.csv\", header=True, inferSchema = True)"
   ]
  },
  {
   "cell_type": "markdown",
   "id": "e30f4710-cb31-40e4-b311-e5da8fb2e280",
   "metadata": {},
   "source": [
    "## 데이터 확인"
   ]
  },
  {
   "cell_type": "code",
   "execution_count": 4,
   "id": "c3b5c904-e842-423b-8240-94e595c04d26",
   "metadata": {},
   "outputs": [
    {
     "name": "stdout",
     "output_type": "stream",
     "text": [
      "+------------+------+-----------+-----+--------+-------+-----+-------------+-----------+----------+-------------+------------+----------+-------+-----------+---------+---------+\n",
      "|Applicant ID|Gender|  Age Group| Race|Training|Signals|Yield|Speed Control|Night Drive|Road Signs|Steer Control|Mirror Usage|Confidence|Parking|Theory Test|Reactions|Qualified|\n",
      "+------------+------+-----------+-----+--------+-------+-----+-------------+-----------+----------+-------------+------------+----------+-------+-----------+---------+---------+\n",
      "|     AID0001|  Male|Young Adult|Other|    None|  38.48|30.29|        37.03|      33.53|     39.61|        58.16|       53.42|     35.32|  38.19|      70.68|  Average|       No|\n",
      "|     AID0002|Female|Young Adult|Black|    None|  51.76|19.13|        63.05|      34.87|     19.56|        16.48|       27.97|     22.91|  24.23|      78.18|  Average|       No|\n",
      "|     AID0003|  Male| Middle Age|Black|    None|  30.21|48.13|        43.13|      42.43|     60.93|        20.74|       28.86|     32.32|  44.11|       79.6|     Fast|      Yes|\n",
      "|     AID0004|  Male|Young Adult|Other|    None|  34.75|47.28|        50.49|       42.1|     22.52|        33.87|       48.52|      24.9|  37.56|      57.34|  Average|       No|\n",
      "|     AID0005|  Male|   Teenager|Other|Advanced|  78.52|83.93|        59.79|      52.68|     67.47|        89.24|       30.31|     43.85|  55.91|      78.44|  Average|      Yes|\n",
      "+------------+------+-----------+-----+--------+-------+-----+-------------+-----------+----------+-------------+------------+----------+-------+-----------+---------+---------+\n",
      "only showing top 5 rows\n",
      "\n"
     ]
    }
   ],
   "source": [
    "df.show(5)"
   ]
  },
  {
   "cell_type": "markdown",
   "id": "f1602eae-0d6e-45c7-bf90-fe620843b0fb",
   "metadata": {},
   "source": [
    "## 결측치 처리"
   ]
  },
  {
   "cell_type": "code",
   "execution_count": 5,
   "id": "24340029-08c3-490f-a934-eccf0df5354b",
   "metadata": {},
   "outputs": [
    {
     "name": "stdout",
     "output_type": "stream",
     "text": [
      "+------------+------+---------+----+--------+-------+-----+-------------+-----------+----------+-------------+------------+----------+-------+-----------+---------+---------+\n",
      "|Applicant ID|Gender|Age Group|Race|Training|Signals|Yield|Speed Control|Night Drive|Road Signs|Steer Control|Mirror Usage|Confidence|Parking|Theory Test|Reactions|Qualified|\n",
      "+------------+------+---------+----+--------+-------+-----+-------------+-----------+----------+-------------+------------+----------+-------+-----------+---------+---------+\n",
      "|           0|     0|        0|   0|       0|      0|    0|            0|          0|         0|            0|           0|         0|      0|          0|        0|        0|\n",
      "+------------+------+---------+----+--------+-------+-----+-------------+-----------+----------+-------------+------------+----------+-------+-----------+---------+---------+\n",
      "\n"
     ]
    }
   ],
   "source": [
    "null_counts = df.select(\n",
    "                    [\n",
    "                        sum( when(col(c).isNull() | isnan(c),1).otherwise(0) ).alias(c)\n",
    "                    for c in df.columns\n",
    "                    ]\n",
    "                )\n",
    "null_counts.show()\n",
    "# 결측치 확인되지 않음"
   ]
  },
  {
   "cell_type": "markdown",
   "id": "903096b3-48f9-470d-96c9-47c5fdb65daf",
   "metadata": {},
   "source": [
    "# 3. 피쳐엔지니어링"
   ]
  },
  {
   "cell_type": "markdown",
   "id": "7c6d13a7-88d5-424a-b547-65c6c2947c24",
   "metadata": {},
   "source": [
    "1. 아이디 컬럼 제거\n",
    "2. 결측치 존재 여부 확인 및 처리\n",
    "3. 번주형 컬럼 인코딩: 나이그룹, 인종, 훈련 유형, 반응속도, 통과여부\n",
    "4. 벡터 어셈블러"
   ]
  },
  {
   "cell_type": "markdown",
   "id": "461f9fd2-3ae2-4b90-8a02-23e4ceae9148",
   "metadata": {},
   "source": [
    "## 범주형 데이터 인코딩"
   ]
  },
  {
   "cell_type": "code",
   "execution_count": 6,
   "id": "c477f2cd-d420-49bc-a9f4-91bc3d3d2ded",
   "metadata": {},
   "outputs": [],
   "source": [
    "label_indexer = StringIndexer(inputCol=\"Qualified\", outputCol=\"Pass\")\n",
    "# 범주형 처리\n",
    "cat_cols = [\"Gender\", \"Age Group\", \"Race\", \"Training\", \"Reactions\"]\n",
    "indexers = [StringIndexer(inputCol=col, outputCol=col+\"_index\") for col in cat_cols]\n",
    "encoders = [OneHotEncoder(inputCol=col+\"_index\", outputCol=col+\"_vec\") for col in cat_cols]"
   ]
  },
  {
   "cell_type": "markdown",
   "id": "a7c2a7c0-a3ad-41e3-b8fa-f84f98e9b399",
   "metadata": {},
   "source": [
    "## 벡터어셈블러 적용"
   ]
  },
  {
   "cell_type": "code",
   "execution_count": 7,
   "id": "d9edf3e8-9771-4c1f-b347-714f525c8a97",
   "metadata": {},
   "outputs": [],
   "source": [
    "# 수치형 + 범주형 묶기\n",
    "features = [\"Signals\", \"Yield\", \"Speed Control\", \"Night Drive\", \"Road Signs\", \"Steer Control\", \"Mirror Usage\", \"Confidence\", \"Parking\", \"Theory Test\"] + [col+\"_vec\" for col in cat_cols]\n",
    "assembler = VectorAssembler(inputCols=features, outputCol=\"features\")\n",
    "scaler = StandardScaler(inputCol=\"features\", outputCol=\"scaled_features\", withMean=True, withStd=True)"
   ]
  },
  {
   "cell_type": "markdown",
   "id": "675e46a8-a31b-4f37-b6d5-824db0f7c8a1",
   "metadata": {},
   "source": [
    "# 4. 데이터 스플릿"
   ]
  },
  {
   "cell_type": "code",
   "execution_count": 8,
   "id": "f86091f7-9983-44ce-945d-066bcf6394a4",
   "metadata": {},
   "outputs": [],
   "source": [
    "(train_df, test_df) = df.randomSplit([0.8, 0.2], seed=42)"
   ]
  },
  {
   "cell_type": "markdown",
   "id": "317b552f-6ff6-4cea-b854-fcf464d5f5ca",
   "metadata": {},
   "source": [
    "# 5. 모델 학습 및 평가"
   ]
  },
  {
   "cell_type": "code",
   "execution_count": 31,
   "id": "78e45223-60bb-4c9f-b47c-0dc2a7800a97",
   "metadata": {},
   "outputs": [],
   "source": [
    "lr = LogisticRegression(featuresCol=\"features\", labelCol=\"Pass\")\n",
    "\n",
    "pipeline = Pipeline(stages=[label_indexer] + indexers + encoders + [assembler, lr])\n",
    "\n",
    "model = pipeline.fit(train_df)\n",
    "pred = model.transform(test_df)\n"
   ]
  },
  {
   "cell_type": "code",
   "execution_count": 25,
   "id": "a366e685-e04d-40c5-9b37-ebdd58852fd3",
   "metadata": {},
   "outputs": [
    {
     "name": "stdout",
     "output_type": "stream",
     "text": [
      "+--------------------+----+----------+\n",
      "|            features|Pass|prediction|\n",
      "+--------------------+----+----------+\n",
      "|[30.21,48.13,43.1...| 0.0|       1.0|\n",
      "|[62.63,45.75,53.0...| 0.0|       0.0|\n",
      "|(19,[0,1,2,3,4,5,...| 1.0|       1.0|\n",
      "|[62.92,52.13,57.0...| 0.0|       0.0|\n",
      "|[20.76,63.14,27.6...| 1.0|       1.0|\n",
      "+--------------------+----+----------+\n",
      "only showing top 5 rows\n",
      "\n"
     ]
    }
   ],
   "source": [
    "pred.select('features', 'Pass', 'prediction').show(5)"
   ]
  },
  {
   "cell_type": "code",
   "execution_count": 11,
   "id": "9c0a9626-807a-45b5-897b-ecb9c6ef94d4",
   "metadata": {},
   "outputs": [
    {
     "name": "stdout",
     "output_type": "stream",
     "text": [
      "ROC AUC: 0.876923076923077\n"
     ]
    }
   ],
   "source": [
    "evaluator = BinaryClassificationEvaluator(labelCol=\"Pass\")\n",
    "print(\"ROC AUC:\", evaluator.evaluate(pred))"
   ]
  },
  {
   "cell_type": "code",
   "execution_count": 12,
   "id": "cc88b03d-a6c0-41b3-8b9e-b4cd80635578",
   "metadata": {},
   "outputs": [
    {
     "name": "stdout",
     "output_type": "stream",
     "text": [
      "Accuracy: 0.8243\n"
     ]
    }
   ],
   "source": [
    "from pyspark.ml.evaluation import MulticlassClassificationEvaluator\n",
    "\n",
    "evaluator = MulticlassClassificationEvaluator(labelCol=\"Pass\", metricName=\"accuracy\")\n",
    "accuracy = evaluator.evaluate(pred)\n",
    "print(f\"Accuracy: {accuracy:.4f}\")"
   ]
  },
  {
   "cell_type": "markdown",
   "id": "27bc3d12-2c8f-4881-a47d-1ef62717ac18",
   "metadata": {},
   "source": [
    "## 여러모델 비교"
   ]
  },
  {
   "cell_type": "code",
   "execution_count": 13,
   "id": "eee6802d-b134-4a10-bb70-3acb3d4f4a13",
   "metadata": {},
   "outputs": [
    {
     "name": "stdout",
     "output_type": "stream",
     "text": [
      "LogisticRegression AUC: 0.8769\n",
      "RandomForestClassifier AUC: 0.9062\n",
      "GBTClassifier AUC: 0.8696\n"
     ]
    }
   ],
   "source": [
    "models = [\n",
    "    LogisticRegression(labelCol=\"Pass\", featuresCol=\"features\"),\n",
    "    RandomForestClassifier(labelCol=\"Pass\", featuresCol=\"features\"),\n",
    "    GBTClassifier(labelCol=\"Pass\", featuresCol=\"features\")\n",
    "]\n",
    "\n",
    "evaluator = BinaryClassificationEvaluator(labelCol=\"Pass\")\n",
    "\n",
    "for model in models:\n",
    "    full_pipeline = Pipeline(stages=[label_indexer] + indexers + encoders + [assembler, model])\n",
    "    fitted_pipeline = full_pipeline.fit(train_df)\n",
    "    preds = fitted_pipeline.transform(test_df)\n",
    "    auc = evaluator.evaluate(preds)\n",
    "    print(f\"{type(model).__name__} AUC: {auc:.4f}\")\n"
   ]
  },
  {
   "cell_type": "code",
   "execution_count": 21,
   "id": "38bc7858-5498-437b-80e8-41ba756419e6",
   "metadata": {},
   "outputs": [],
   "source": [
    "rf = RandomForestClassifier(\n",
    "    labelCol=\"Pass\",\n",
    "    featuresCol=\"features\", \n",
    "    numTrees=50,\n",
    "    maxDepth=5\n",
    ")\n",
    "pipeline = Pipeline(stages=[\n",
    "    label_indexer\n",
    "] + indexers + encoders + [\n",
    "    assembler, rf  \n",
    "])\n"
   ]
  },
  {
   "cell_type": "code",
   "execution_count": 22,
   "id": "c0429fd4-e11c-4042-a7ec-48a9b55c8407",
   "metadata": {},
   "outputs": [
    {
     "name": "stdout",
     "output_type": "stream",
     "text": [
      "Accuracy: 0.8243\n"
     ]
    }
   ],
   "source": [
    "from pyspark.ml.evaluation import MulticlassClassificationEvaluator\n",
    "\n",
    "evaluator = MulticlassClassificationEvaluator(\n",
    "    labelCol=\"Pass\",  \n",
    "    predictionCol=\"prediction\",\n",
    "    metricName=\"accuracy\" \n",
    ")\n",
    "\n",
    "accuracy = evaluator.evaluate(predictions)\n",
    "print(f\"Accuracy: {accuracy:.4f}\")\n"
   ]
  },
  {
   "cell_type": "markdown",
   "id": "b14c462b-fa3b-4b83-8202-fa16c5cc4be8",
   "metadata": {},
   "source": [
    "# 6. 세션 정지"
   ]
  },
  {
   "cell_type": "code",
   "execution_count": 34,
   "id": "1e752041-9207-4cc1-a661-591228ccc1ca",
   "metadata": {},
   "outputs": [],
   "source": [
    "spark.stop()"
   ]
  },
  {
   "cell_type": "code",
   "execution_count": null,
   "id": "249c3fe5-4a9c-4c19-8023-e7ccc3fe0ce7",
   "metadata": {},
   "outputs": [],
   "source": []
  },
  {
   "cell_type": "code",
   "execution_count": null,
   "id": "d16c9a11-f420-45a3-8847-08236943740c",
   "metadata": {},
   "outputs": [],
   "source": []
  },
  {
   "cell_type": "code",
   "execution_count": null,
   "id": "bb215060-ead7-4b01-a391-4f10a9c855e7",
   "metadata": {},
   "outputs": [],
   "source": []
  }
 ],
 "metadata": {
  "kernelspec": {
   "display_name": "Python 3 (ipykernel)",
   "language": "python",
   "name": "python3"
  },
  "language_info": {
   "codemirror_mode": {
    "name": "ipython",
    "version": 3
   },
   "file_extension": ".py",
   "mimetype": "text/x-python",
   "name": "python",
   "nbconvert_exporter": "python",
   "pygments_lexer": "ipython3",
   "version": "3.11.6"
  }
 },
 "nbformat": 4,
 "nbformat_minor": 5
}
