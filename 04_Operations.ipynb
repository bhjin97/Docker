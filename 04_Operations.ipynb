{
 "cells": [
  {
   "cell_type": "code",
   "execution_count": null,
   "id": "6f7b61b2-f403-4802-8acf-671a26a275e6",
   "metadata": {},
   "outputs": [],
   "source": [
    "# Reduce\n",
    "RDD.reduce(<func>)\n",
    "사용자가 지정하는 함수를 받아 여러 개의 값을 하나로 줄여줍니다."
   ]
  },
  {
   "cell_type": "code",
   "execution_count": 1,
   "id": "ab8647d5-7750-4147-bce8-20d370b8242b",
   "metadata": {},
   "outputs": [],
   "source": [
    "from operator import add"
   ]
  },
  {
   "cell_type": "code",
   "execution_count": 4,
   "id": "d852594b-40f7-4660-a5f9-4a478d463b15",
   "metadata": {},
   "outputs": [],
   "source": [
    "from pyspark.sql import SparkSession\n",
    "\n",
    "spark = SparkSession.builder \\\n",
    "    .appName(\"restaurant-review-average\") \\\n",
    "    .master(\"local[*]\") \\\n",
    "    .getOrCreate()\n",
    "sc = spark.sparkContext"
   ]
  },
  {
   "cell_type": "code",
   "execution_count": 5,
   "id": "6040097d-12ed-4dcd-99a1-1236896d23e8",
   "metadata": {},
   "outputs": [
    {
     "data": {
      "text/plain": [
       "ParallelCollectionRDD[0] at readRDDFromFile at PythonRDD.scala:289"
      ]
     },
     "execution_count": 5,
     "metadata": {},
     "output_type": "execute_result"
    }
   ],
   "source": [
    "sample_rdd = sc.parallelize([1, 2, 3, 4, 5])\n",
    "sample_rdd"
   ]
  },
  {
   "cell_type": "code",
   "execution_count": 6,
   "id": "91b28fc9-be55-4fcc-b2ad-e9989f092d03",
   "metadata": {},
   "outputs": [
    {
     "data": {
      "text/plain": [
       "15"
      ]
     },
     "execution_count": 6,
     "metadata": {},
     "output_type": "execute_result"
    }
   ],
   "source": [
    "#RDD에 있는 숫자의 합계를 계산:\n",
    "sample_rdd.reduce(add)"
   ]
  },
  {
   "cell_type": "code",
   "execution_count": 7,
   "id": "c474cbe4-5a4a-4c81-89d5-65706aed9abc",
   "metadata": {},
   "outputs": [
    {
     "data": {
      "text/plain": [
       "18"
      ]
     },
     "execution_count": 7,
     "metadata": {},
     "output_type": "execute_result"
    }
   ],
   "source": [
    "sample_rdd = sc.parallelize([1, 2, 3, 4])\n",
    "sample_rdd.reduce(lambda x, y : (x * 2)+ y)"
   ]
  },
  {
   "cell_type": "code",
   "execution_count": 8,
   "id": "4855f0b8-efcb-441e-9e76-e255ae3c2335",
   "metadata": {},
   "outputs": [
    {
     "data": {
      "text/plain": [
       "18"
      ]
     },
     "execution_count": 8,
     "metadata": {},
     "output_type": "execute_result"
    }
   ],
   "source": [
    "sc.parallelize([1, 2, 3, 4], 2).reduce(lambda x, y : (x * 2) + y)"
   ]
  },
  {
   "cell_type": "code",
   "execution_count": null,
   "id": "27cb6a49-f524-4290-a70e-3f138ae221d9",
   "metadata": {},
   "outputs": [],
   "source": [
    "# 파티션을 3개로 지정"
   ]
  },
  {
   "cell_type": "code",
   "execution_count": 9,
   "id": "f42ea601-ca57-43b6-bcda-6f8d35eac318",
   "metadata": {},
   "outputs": [
    {
     "data": {
      "text/plain": [
       "18"
      ]
     },
     "execution_count": 9,
     "metadata": {},
     "output_type": "execute_result"
    }
   ],
   "source": [
    "sc.parallelize([1, 2, 3, 4], 3).reduce(lambda x, y : (x * 2) + y)"
   ]
  },
  {
   "cell_type": "code",
   "execution_count": 10,
   "id": "00270399-5dad-409b-89c1-19463e3c8f77",
   "metadata": {},
   "outputs": [
    {
     "data": {
      "text/plain": [
       "26"
      ]
     },
     "execution_count": 10,
     "metadata": {},
     "output_type": "execute_result"
    }
   ],
   "source": [
    "sc.parallelize([1, 2, 3, 4], 1).reduce(lambda x, y : (x * 2) + y)"
   ]
  },
  {
   "cell_type": "markdown",
   "id": "3a4b80f3-5fb3-415a-92cc-4c02a6d14b9c",
   "metadata": {},
   "source": [
    "# Fold\n",
    "RDD.fold(zeroValue, <func>)\n",
    "reduce와 비슷하지만, zeroValue에 넣어놓고 싶은 시작값을 지정해서 reduce가 가능\n",
    "zeroValue는 파티션 마다 계산이 일어날 때 하나씩 더해지는 값\n",
    "fold()를 사용하여 합계를 구하되, 초기값을 지정"
   ]
  },
  {
   "cell_type": "code",
   "execution_count": 11,
   "id": "67f54511-522e-4f59-8e55-ed1a08a681f9",
   "metadata": {},
   "outputs": [
    {
     "name": "stdout",
     "output_type": "stream",
     "text": [
      "24\n",
      "24\n"
     ]
    }
   ],
   "source": [
    "rdd = sc.parallelize([2, 3, 4], 4)\n",
    "\n",
    "#숫자의 곱을 계산해서 합한다\n",
    "print(rdd.reduce(lambda x, y : (x * y))) # 2 x 3 -> x 4\n",
    "print(rdd.fold(1, lambda x , y : (x * y))) # 1 x 2 x 3 x 4"
   ]
  },
  {
   "cell_type": "code",
   "execution_count": 13,
   "id": "eb207c27-7940-4bb8-8e28-d6ba58d7b425",
   "metadata": {},
   "outputs": [
    {
     "data": {
      "text/plain": [
       "768"
      ]
     },
     "execution_count": 13,
     "metadata": {},
     "output_type": "execute_result"
    }
   ],
   "source": [
    "rdd.fold(2, lambda x , y : (x * y)) \n",
    "# 초기값 2 지정 :: 2x2 , 2x3, 2x4, \"\" > 4 , 6, 8, \"\" \n",
    "# 다시 초기값 2 지정 :: 4x2*6, 48x2*8, \"\" > 768"
   ]
  },
  {
   "cell_type": "code",
   "execution_count": 12,
   "id": "47cebcba-00f4-48bc-844b-73bfb4756719",
   "metadata": {},
   "outputs": [
    {
     "name": "stdout",
     "output_type": "stream",
     "text": [
      "9\n",
      "14\n"
     ]
    }
   ],
   "source": [
    "print(rdd.reduce(lambda x, y : x + y)) \n",
    "print(rdd.fold(1, lambda x, y : x + y)) "
   ]
  },
  {
   "cell_type": "code",
   "execution_count": null,
   "id": "556330e0-7e38-4601-9d66-7e65ae2b2ba0",
   "metadata": {},
   "outputs": [],
   "source": [
    "# 대규모 숫자 데이터셋 생성\n",
    "numbers_rdd = sc.parallelize(range(1, 1000001))\n",
    "\n",
    "# fold를 사용하여 총합계 계산\n",
    "total_sum = numbers_rdd.fold(0, lambda x, y: x + y)\n",
    "\n",
    "print(f\"Total sum: {total_sum}\")"
   ]
  },
  {
   "cell_type": "code",
   "execution_count": null,
   "id": "490ccafd-fe25-4a6c-8c8e-03759e599c21",
   "metadata": {},
   "outputs": [],
   "source": [
    "# 직원 급여 데이터\n",
    "salaries_rdd = sc.parallelize([50000, 60000, 55000, 75000, 65000, 80000])\n",
    "\n",
    "# fold를 사용하여 최대 급여 찾기\n",
    "max_salary = salaries_rdd.fold(0, lambda x, y: max(x, y))\n",
    "\n",
    "print(f\"Maximum salary: {max_salary}\")"
   ]
  },
  {
   "cell_type": "code",
   "execution_count": null,
   "id": "314ec7fe-12b5-4268-b026-2b1848e9be25",
   "metadata": {},
   "outputs": [],
   "source": [
    "# 부서별 직원 급여 데이터\n",
    "dept_salaries = [(\"IT\", 50000), (\"HR\", 45000), (\"IT\", 60000), \n",
    "                 (\"Finance\", 55000), (\"HR\", 50000), (\"IT\", 65000)]\n",
    "dept_rdd = sc.parallelize(dept_salaries)\n",
    "\n",
    "# foldByKey를 사용하여 부서별 최대 급여 찾기\n",
    "max_salary_by_dept = dept_rdd.foldByKey(0, lambda x, y: max(x, y))\n",
    "\n",
    "print(\"Maximum salary by department:\")\n",
    "for dept, max_salary in max_salary_by_dept.collect():\n",
    "    print(f\"{dept}: {max_salary}\")"
   ]
  },
  {
   "cell_type": "code",
   "execution_count": null,
   "id": "69b9d8d0-0420-486a-9c28-b96218a9194f",
   "metadata": {},
   "outputs": [],
   "source": []
  },
  {
   "cell_type": "markdown",
   "id": "f5a0d74c-24c2-455c-8878-e5c59329fc64",
   "metadata": {},
   "source": [
    "# GroupBy\n",
    "RDD.groupBy(<func>)\n",
    "그룹핑 함수를 받아 reduction\n",
    "groupBy() 메서드는 주어진 함수를 기준으로 RDD의 요소들을 그룹화합니다."
   ]
  },
  {
   "cell_type": "code",
   "execution_count": 14,
   "id": "27e5543e-64c3-4e7c-bb80-b9eb26d521f3",
   "metadata": {},
   "outputs": [
    {
     "data": {
      "text/plain": [
       "[(0, [2, 8]), (1, [1, 1, 3, 5])]"
      ]
     },
     "execution_count": 14,
     "metadata": {},
     "output_type": "execute_result"
    }
   ],
   "source": [
    "rdd = sc.parallelize([1, 1, 2, 3, 5, 8])\n",
    "result = rdd.groupBy(lambda x : x % 2).collect()\n",
    "\n",
    "sorted([(x, sorted(y)) for (x, y) in result])"
   ]
  },
  {
   "cell_type": "code",
   "execution_count": 15,
   "id": "7c8245dd-19e3-41d9-8fa2-2a88d101ad1b",
   "metadata": {},
   "outputs": [
    {
     "data": {
      "text/plain": [
       "[(0, [2, 8]), (1, [1, 1, 3, 5])]"
      ]
     },
     "execution_count": 15,
     "metadata": {},
     "output_type": "execute_result"
    }
   ],
   "source": [
    "[(x, sorted(y)) for (x, y) in result]"
   ]
  },
  {
   "cell_type": "code",
   "execution_count": null,
   "id": "ec2675af-d8c1-47ac-b7dd-a74a9cabd233",
   "metadata": {},
   "outputs": [],
   "source": []
  },
  {
   "cell_type": "code",
   "execution_count": 16,
   "id": "d9f81a4e-fdfa-4489-940c-0f5954c35d0b",
   "metadata": {},
   "outputs": [],
   "source": [
    "#판매 데이터 분석 (카테고리별 총 매출 계산)\n",
    "sales_data = [\n",
    "    (\"Electronics\", 1000),\n",
    "    (\"Clothing\", 500),\n",
    "    (\"Electronics\", 1500),\n",
    "    (\"Books\", 300),\n",
    "    (\"Clothing\", 750),\n",
    "    (\"Books\", 200)\n",
    "]"
   ]
  },
  {
   "cell_type": "code",
   "execution_count": 20,
   "id": "f803df33-d596-429b-8496-3762ff41529e",
   "metadata": {},
   "outputs": [
    {
     "name": "stdout",
     "output_type": "stream",
     "text": [
      "Clothing: $1250\n",
      "Electronics: $2500\n",
      "Books: $500\n"
     ]
    }
   ],
   "source": [
    "# RDD 생성\n",
    "sales_rdd = sc.parallelize(sales_data)\n",
    "\n",
    "# 카테고리별 총 매출 계산\n",
    "category_sales = sales_rdd.groupBy(lambda x: x[0]) \\\n",
    "    .mapValues(lambda values: sum(item[1] for item in values)) \\\n",
    "    .collect()\n",
    "# 결과 출력\n",
    "for category, total_sales in category_sales:\n",
    "    print(f\"{category}: ${total_sales}\")\n"
   ]
  },
  {
   "cell_type": "code",
   "execution_count": 22,
   "id": "3fe5d876-af69-4842-8740-42657791b3c6",
   "metadata": {},
   "outputs": [],
   "source": [
    "#로그 데이터 처리 (IP 주소별 접속 횟수 분석)\n",
    "# SparkContext 생성 가정 (sc)\n",
    "log_data = [\n",
    "    (\"192.168.1.1\", \"login\"),\n",
    "    (\"192.168.1.2\", \"purchase\"),\n",
    "    (\"192.168.1.1\", \"view\"),\n",
    "    (\"192.168.1.3\", \"login\"),\n",
    "    (\"192.168.1.2\", \"login\"),\n",
    "    (\"192.168.1.1\", \"purchase\")\n",
    "]\n",
    "\n",
    "# RDD 생성\n",
    "log_rdd = sc.parallelize(log_data)\n"
   ]
  },
  {
   "cell_type": "code",
   "execution_count": 50,
   "id": "b4ff265a-8480-41dd-83d7-038270dec93b",
   "metadata": {},
   "outputs": [
    {
     "name": "stdout",
     "output_type": "stream",
     "text": [
      "192.168.1.1: 3\n",
      "192.168.1.2: 2\n",
      "192.168.1.3: 1\n"
     ]
    }
   ],
   "source": [
    "grouped = log_rdd.groupBy(lambda x: x[0])\\\n",
    ".mapValues(lambda records: len(list(records))).collect()\n",
    "\n",
    "# 결과 출력\n",
    "for category, logs in grouped:\n",
    "    print(f\"{category}: {logs}\")"
   ]
  },
  {
   "cell_type": "code",
   "execution_count": 38,
   "id": "4bc1e1d2-7dc9-4ce2-9675-ecec6db95e21",
   "metadata": {},
   "outputs": [],
   "source": [
    "#학생 성적 데이터 분석 (과목별 평균 성적 계산)\n",
    "# SparkContext 생성 가정 (sc)\n",
    "student_grades = [\n",
    "    (\"Math\", 85),\n",
    "    (\"English\", 90),\n",
    "    (\"Math\", 92),\n",
    "    (\"Science\", 88),\n",
    "    (\"English\", 95),\n",
    "    (\"Science\", 82)\n",
    "]\n",
    "\n",
    "# RDD 생성\n",
    "grades_rdd = sc.parallelize(student_grades)\n"
   ]
  },
  {
   "cell_type": "code",
   "execution_count": 42,
   "id": "54d6accf-2d3e-4e00-94b0-7a2a7ae72d9f",
   "metadata": {},
   "outputs": [
    {
     "name": "stdout",
     "output_type": "stream",
     "text": [
      "Science: 85.0\n",
      "Math: 88.5\n",
      "English: 92.5\n"
     ]
    }
   ],
   "source": [
    "st_ct = grades_rdd.groupByKey() \\\n",
    "                  .mapValues(lambda values: sum(values) / len(values)) \\\n",
    "                  .collect()\n",
    "# 결과 출력\n",
    "for category, avg in st_ct:\n",
    "    print(f\"{category}: {avg}\")"
   ]
  },
  {
   "cell_type": "markdown",
   "id": "34978ac6-761a-449c-9c23-2f767c3e18d4",
   "metadata": {},
   "source": [
    "# 5. aggregate 함수 사용 예제"
   ]
  },
  {
   "cell_type": "code",
   "execution_count": 52,
   "id": "30d3a66f-78f4-4948-be31-422252ff8969",
   "metadata": {},
   "outputs": [
    {
     "data": {
      "text/plain": [
       "[1, 5, 3, 9, 2, 8, 4, 7, 6]"
      ]
     },
     "execution_count": 52,
     "metadata": {},
     "output_type": "execute_result"
    }
   ],
   "source": [
    "from pyspark import SparkContext\n",
    "\n",
    "sc = SparkContext.getOrCreate()\n",
    "numbers = sc.parallelize([1, 5, 3, 9, 2, 8, 4, 7, 6], numSlices=3)\n",
    "numbers.collect()"
   ]
  },
  {
   "cell_type": "code",
   "execution_count": null,
   "id": "d2da63aa-54c2-49e5-8964-a2aefff2ae21",
   "metadata": {},
   "outputs": [],
   "source": [
    "# glom()은 각 파티션의 내용을 리스트로 감싸서 반환\n",
    "# 즉, 파티션 간의 이동이 없고, 내부 자료구조만 바꾸는 연산\n",
    "# glom()은 RDD의 각 파티션을 배열 형태로 변환하는 narrow transformation"
   ]
  },
  {
   "cell_type": "code",
   "execution_count": 53,
   "id": "d91059e5-bf4c-4bcb-bc03-b9a548c73048",
   "metadata": {},
   "outputs": [
    {
     "data": {
      "text/plain": [
       "[[1, 5, 3], [9, 2, 8], [4, 7, 6]]"
      ]
     },
     "execution_count": 53,
     "metadata": {},
     "output_type": "execute_result"
    }
   ],
   "source": [
    "numbers.glom().collect()"
   ]
  },
  {
   "cell_type": "code",
   "execution_count": 54,
   "id": "546bd895-d2ec-4dfc-9f5d-c0f77b9cb09a",
   "metadata": {},
   "outputs": [],
   "source": [
    "numbers = sc.parallelize([1, 5, 3, 9, 2, 8, 4, 7, 6])"
   ]
  },
  {
   "cell_type": "code",
   "execution_count": 55,
   "id": "8ab8237c-f16e-4ccf-82dd-e620e4ddc37b",
   "metadata": {},
   "outputs": [
    {
     "data": {
      "text/plain": [
       "(45, 9)"
      ]
     },
     "execution_count": 55,
     "metadata": {},
     "output_type": "execute_result"
    }
   ],
   "source": [
    "# 평균 계산하기\n",
    "sum_count = numbers.aggregate(\n",
    "    (0, 0),  # 초기값 (합계, 개수)\n",
    "    lambda acc, value: (acc[0] + value, acc[1] + 1),  # 각 파티션 내 연산\n",
    "    lambda acc1, acc2: (acc1[0] + acc2[0], acc1[1] + acc2[1])  # 파티션 간 연산\n",
    ")\n",
    "sum_count"
   ]
  },
  {
   "cell_type": "code",
   "execution_count": 56,
   "id": "00d03813-e6a2-4183-85a4-a347bdb93ca8",
   "metadata": {},
   "outputs": [
    {
     "name": "stdout",
     "output_type": "stream",
     "text": [
      "Average: 5.0\n"
     ]
    }
   ],
   "source": [
    "average = sum_count[0] / sum_count[1]\n",
    "print(\"Average:\", average)  # 5.0"
   ]
  },
  {
   "cell_type": "code",
   "execution_count": 57,
   "id": "c45949a8-5fb2-4d86-9fc8-a3bd24527643",
   "metadata": {},
   "outputs": [],
   "source": [
    "# agg 연습\n",
    "data = [\"hello\", \"world\", \"spark\"]\n",
    "rdd = sc.parallelize(data)\n",
    "\n",
    "def seq_op(acc, value):\n",
    "    text, idx = acc\n",
    "    return (f\"{text} {idx}:{value}\".strip(), idx + 1)\n",
    "\n",
    "def comb_op(acc1, acc2):\n",
    "    # 줄 번호 이어붙이기: 앞쪽 text 유지 + 뒤쪽 text 뒤에 붙이기\n",
    "    text1, idx1 = acc1\n",
    "    text2, idx2 = acc2\n",
    "    # 줄 번호 충돌 피하려면 idx 조정 필요 (복잡하므로 단순히 붙임)\n",
    "    return (f\"{text1} {text2}\".strip(), idx1 + idx2)"
   ]
  },
  {
   "cell_type": "code",
   "execution_count": 58,
   "id": "5cb95b36-13a1-49a2-92bc-dbecf9bb845b",
   "metadata": {},
   "outputs": [
    {
     "name": "stdout",
     "output_type": "stream",
     "text": [
      "1:hello 1:world 2:spark\n"
     ]
    }
   ],
   "source": [
    "zero = (\"\", 1)\n",
    "\n",
    "result = rdd.aggregate(zero, seq_op, comb_op)[0]\n",
    "print(result)"
   ]
  },
  {
   "cell_type": "code",
   "execution_count": 59,
   "id": "b429c6c2-0b11-4218-ba68-c3e19a010e4d",
   "metadata": {},
   "outputs": [
    {
     "name": "stdout",
     "output_type": "stream",
     "text": [
      "1:spark 2:hadoop 1:ai 2:python 3:sql\n"
     ]
    }
   ],
   "source": [
    "rdd = sc.parallelize([\"spark\", \"hadoop\", \"ai\", \"python\", \"sql\"])\n",
    "result = rdd.aggregate(zero, seq_op, comb_op)[0]\n",
    "print(result)"
   ]
  },
  {
   "cell_type": "code",
   "execution_count": 60,
   "id": "70a1cbe1-57f6-499a-be2e-b47ee049afee",
   "metadata": {},
   "outputs": [
    {
     "name": "stdout",
     "output_type": "stream",
     "text": [
      "길이 5 이상인 문자열 개수: 3\n"
     ]
    }
   ],
   "source": [
    "# 길이가 5 이상인 문자열 개수 세기\n",
    "rdd = sc.parallelize([\"spark\", \"hadoop\", \"ai\", \"python\", \"sql\"])\n",
    "\n",
    "result = rdd.aggregate(\n",
    "    0,\n",
    "    lambda acc, value: acc + (1 if len(value) >= 5 else 0),\n",
    "    lambda acc1, acc2: acc1 + acc2\n",
    ")\n",
    "\n",
    "print(\"길이 5 이상인 문자열 개수:\", result)"
   ]
  },
  {
   "cell_type": "code",
   "execution_count": null,
   "id": "716de973-e694-4327-8bcc-313719ac64d6",
   "metadata": {},
   "outputs": [],
   "source": [
    "#spark.stop()"
   ]
  },
  {
   "cell_type": "code",
   "execution_count": null,
   "id": "cbc88750-9c3c-4b19-9296-34a2b36a71e5",
   "metadata": {},
   "outputs": [],
   "source": []
  }
 ],
 "metadata": {
  "kernelspec": {
   "display_name": "Python 3 (ipykernel)",
   "language": "python",
   "name": "python3"
  },
  "language_info": {
   "codemirror_mode": {
    "name": "ipython",
    "version": 3
   },
   "file_extension": ".py",
   "mimetype": "text/x-python",
   "name": "python",
   "nbconvert_exporter": "python",
   "pygments_lexer": "ipython3",
   "version": "3.11.6"
  }
 },
 "nbformat": 4,
 "nbformat_minor": 5
}
